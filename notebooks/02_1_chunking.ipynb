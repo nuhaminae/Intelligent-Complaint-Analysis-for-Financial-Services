{
 "cells": [
  {
   "cell_type": "markdown",
   "id": "96045ddf",
   "metadata": {},
   "source": [
    "# **Import Modules**"
   ]
  },
  {
   "cell_type": "markdown",
   "id": "7e72bf03",
   "metadata": {},
   "source": [
    "## *python*"
   ]
  },
  {
   "cell_type": "code",
   "execution_count": 1,
   "id": "dbe69c57",
   "metadata": {},
   "outputs": [],
   "source": [
    "# Import python modules\n",
    "import os,sys"
   ]
  },
  {
   "cell_type": "markdown",
   "id": "269d794d",
   "metadata": {},
   "source": [
    "## *custom*"
   ]
  },
  {
   "cell_type": "code",
   "execution_count": 2,
   "id": "3a44f159",
   "metadata": {},
   "outputs": [],
   "source": [
    "# Import customised modules\n",
    "\n",
    "# Define path\n",
    "sys.path.append(os.path.abspath(os.path.join('..')))\n",
    "\n",
    "##import relevant modules\n",
    "try:\n",
    "    from scripts._02_1_chunk import Chunking\n",
    "\n",
    "except ImportError:\n",
    "    print('Could not import module from `scripts/`.')"
   ]
  },
  {
   "cell_type": "markdown",
   "id": "acce38cc",
   "metadata": {},
   "source": [
    "# **Chunking**"
   ]
  },
  {
   "cell_type": "code",
   "execution_count": 3,
   "id": "b78f2e94",
   "metadata": {},
   "outputs": [],
   "source": [
    "# Define DataFrame path\n",
    "df_path = os.path.join(os.path.dirname(os.getcwd()), 'data/processed/filtered_complaints.csv')\n",
    "plot_dir = os.path.join(os.path.dirname(os.getcwd()), 'plots/02_chunking_embedding')\n",
    "df_dir = os.path.join(os.path.dirname(os.getcwd()), 'data','processed')"
   ]
  },
  {
   "cell_type": "code",
   "execution_count": null,
   "id": "1af0faf7",
   "metadata": {},
   "outputs": [
    {
     "name": "stdout",
     "output_type": "stream",
     "text": [
      "Renamed 'Clean Consumer Complaint Narrative' to 'Consumer Complaint Narrative Clean' and dropped the original column.\n",
      "\n",
      "DataFrame loaded successfully from ..\\data\\processed\\filtered_complaints.csv\n"
     ]
    }
   ],
   "source": [
    "# Initalise class\n",
    "# Load data\n",
    "chunker = Chunking (df_path, plot_dir, df_dir)"
   ]
  },
  {
   "cell_type": "code",
   "execution_count": null,
   "id": "34e7ac1d",
   "metadata": {},
   "outputs": [
    {
     "name": "stdout",
     "output_type": "stream",
     "text": [
      "Chunking complete.\n",
      "\n",
      "Chunked DataFrame head:\n"
     ]
    },
    {
     "data": {
      "application/vnd.microsoft.datawrangler.viewer.v0+json": {
       "columns": [
        {
         "name": "index",
         "rawType": "int64",
         "type": "integer"
        },
        {
         "name": "Chunk",
         "rawType": "object",
         "type": "string"
        },
        {
         "name": "Chunk Length",
         "rawType": "int64",
         "type": "integer"
        },
        {
         "name": "Company",
         "rawType": "object",
         "type": "string"
        },
        {
         "name": "Company Public Response",
         "rawType": "object",
         "type": "string"
        },
        {
         "name": "Company Response To Consumer",
         "rawType": "object",
         "type": "string"
        },
        {
         "name": "Complaint Id",
         "rawType": "int64",
         "type": "integer"
        },
        {
         "name": "Complaint Length",
         "rawType": "float64",
         "type": "float"
        },
        {
         "name": "Consumer Complaint Narrative",
         "rawType": "object",
         "type": "string"
        },
        {
         "name": "Consumer Complaint Narrative Clean",
         "rawType": "object",
         "type": "string"
        },
        {
         "name": "Consumer Consent Provided?",
         "rawType": "object",
         "type": "string"
        },
        {
         "name": "Consumer Disputed?",
         "rawType": "object",
         "type": "string"
        },
        {
         "name": "Date Received",
         "rawType": "datetime64[ns]",
         "type": "datetime"
        },
        {
         "name": "Date Sent To Company",
         "rawType": "datetime64[ns]",
         "type": "datetime"
        },
        {
         "name": "Issue",
         "rawType": "object",
         "type": "string"
        },
        {
         "name": "Product",
         "rawType": "object",
         "type": "string"
        },
        {
         "name": "State",
         "rawType": "object",
         "type": "string"
        },
        {
         "name": "Sub-Issue",
         "rawType": "object",
         "type": "string"
        },
        {
         "name": "Sub-Product",
         "rawType": "object",
         "type": "string"
        },
        {
         "name": "Submitted Via",
         "rawType": "object",
         "type": "string"
        },
        {
         "name": "Tags",
         "rawType": "object",
         "type": "string"
        },
        {
         "name": "Timely Response?",
         "rawType": "object",
         "type": "string"
        },
        {
         "name": "Zip Code",
         "rawType": "object",
         "type": "string"
        }
       ],
       "ref": "2485b368-05e3-4f1b-9987-7ad4144955e9",
       "rows": [
        [
         "0",
         "xxxx xxxx card opened name fraudster. received notice xxxx account opened name. reached xxxx xxxx state activity unauthorized me. xxxx xxxx confirmed fraudulent immediately closed card. however, failed remove three credit agency fraud impacting credit score based hard credit pull done xxxx xxxx done fraudster.",
         "311",
         "CITIBANK, N.A.",
         "Company has responded to the consumer and the CFPB and chooses not to provide a public response",
         "Closed with non-monetary relief",
         "14069121",
         "488.0",
         "A XXXX XXXX card was opened under my name by a fraudster. I received a notice from XXXX  that an account was just opened under my name. I reached out to XXXX XXXX to state that this activity was unauthorized and not me. XXXX XXXX confirmed this was fraudulent and immediately closed the card. However, they have failed to remove this from the three credit agencies and this fraud is now impacting my credit score based on a hard credit pull done by XXXX XXXX that was done by a fraudster.",
         "xxxx xxxx card opened name fraudster. received notice xxxx account opened name. reached xxxx xxxx state activity unauthorized me. xxxx xxxx confirmed fraudulent immediately closed card. however, failed remove three credit agency fraud impacting credit score based hard credit pull done xxxx xxxx done fraudster.",
         "Consent provided",
         "Unknown",
         "2025-06-13 00:00:00",
         "2025-06-13 00:00:00",
         "Getting a credit card",
         "Credit card",
         "TX",
         "Card opened without my consent or knowledge",
         "Store credit card",
         "Web",
         "Servicemember",
         "Yes",
         "78230"
        ],
        [
         "1",
         "made mistake using wellsfargo debit card depsit fund xxxxxxxx atm machine outside branch. went branch told could help phone customer service help. told helped gave info time terminal id aact # s, xxxx able find transaction give info, said dispute would take days. waited day got letter stating dispute rejected. went back xxxx said never got transaction.",
         "354",
         "WELLS FARGO & COMPANY",
         "Company has responded to the consumer and the CFPB and chooses not to provide a public response",
         "Closed with explanation",
         "14061897",
         "555.0",
         "I made the mistake of using my wellsfargo debit card to depsit funds Into XXXXXXXX ATM machine outside their branch. \n\nI went into the branch and was told they couldn't help and had to phone the customer service for help. I did this and was told I was helped gave all the info for the time terminal id aact # s, XXXX was able to find the transaction and give me this info, he said the dispute would take a few days. \n\nI waited a few days and got a letter stating my dispute was rejected. I went back into XXXX and they said they never got the transaction.",
         "made mistake using wellsfargo debit card depsit fund xxxxxxxx atm machine outside branch. went branch told could help phone customer service help. told helped gave info time terminal id aact # s, xxxx able find transaction give info, said dispute would take days. waited day got letter stating dispute rejected. went back xxxx said never got transaction.",
         "Consent provided",
         "Unknown",
         "2025-06-13 00:00:00",
         "2025-06-13 00:00:00",
         "Managing an account",
         "Checking or savings account",
         "ID",
         "Deposits and withdrawals",
         "Checking account",
         "Web",
         "Unknown",
         "Yes",
         "83815"
        ],
        [
         "2",
         "secured credit card citibank changed unsecured card calling n waitting check release secured amount $2500.00 rhat credit card. told wait today told someone cashed check system info who, happen!! requested case number send confirmation whatsoever report police. told wait form might sent via mail within 14 day fill out. called customer service second time today manager told thing, info help all! please help me, big bank service terrible lil customer like nothing! thank much look forward reply!",
         "496",
         "CITIBANK, N.A.",
         "Company has responded to the consumer and the CFPB and chooses not to provide a public response",
         "Closed with monetary relief",
         "14047085",
         "806.0",
         "Dear CFPB, I have a secured credit card with citibank which is changed to unsecured card and I have been calling n waitting for the check release the secured amount {$2500.00} for rhat credit card. They told me to wait then today they told me someone cashed my check but their system doesnt have info as of who, where and when did it happen!!\n\nI requested a case number but they wont send me any confirmation whatsoever to report to the police.\n\nThey told me I have to wait for some form that might be sent to me via mail within 14 days to fill out. I called customer service second time today and their manager told me same thing, no info no help at all! Please help me, it's a big bank but the service is so terrible and lil customer like me can do nothing! Thank so much and look forward for your reply!",
         "secured credit card citibank changed unsecured card calling n waitting check release secured amount $2500.00 rhat credit card. told wait today told someone cashed check system info who, happen!! requested case number send confirmation whatsoever report police. told wait form might sent via mail within 14 day fill out. called customer service second time today manager told thing, info help all! please help me, big bank service terrible lil customer like nothing! thank much look forward reply!",
         "Consent provided",
         "Unknown",
         "2025-06-12 00:00:00",
         "2025-06-13 00:00:00",
         "Other features, terms, or problems",
         "Credit card",
         "NY",
         "Other problem",
         "General-purpose credit card or charge card",
         "Web",
         "Unknown",
         "Yes",
         "11220"
        ],
        [
         "3",
         "citi reward cards. credit balance issued $8400.00. recently moved, meant bill would lowered, meant would less use credit cards. order keep usage generally good area used card intention pay monthly would result boost credit score, showing creditor pay doen. card good standing. credit good standing. xxxx xxxx xxxx citi abruptly slash balance card $8400.00 $5400.00 sends message reached credit limit. contacted said consult letter emailed xxxx",
         "443",
         "CITIBANK, N.A.",
         "Company has responded to the consumer and the CFPB and chooses not to provide a public response",
         "Closed with explanation",
         "14040217",
         "1199.0",
         "I have a Citi rewards cards. The credit balance issued to me was {$8400.00}. I recently moved, which meant my bills would be lowered, which meant I'd have LESS use for my credit cards. So in order to keep my usage in a generally good area I used each of my cards with the intention to pay them down monthly which would result in a boost to my credit score, showing creditors I can pay doen. All of my cards are in good standing. My credit is in good standing. But on the XXXX XXXX XXXX Citi abruptly slashes the balance of my card from {$8400.00} down to {$5400.00} and sends me a message that I have just about reached my credit limit. I contacted them and all they said was consult a letter they emailed on the XXXX. The slashing action was taken the day OF the letter ( XXXX ) and I had no recourse to respond nor was I even aware of this action prior to the notification about reaching my limit, which I received on or about the XXXX of XXXX. This is an egregious act that not only blindsided me but manipulates my account to make it APPEAR that I'm close to reaching the limit, when in fact I was no where near the limit. This could negatively impact my credit score through no fault of my own.",
         "citi reward cards. credit balance issued $8400.00. recently moved, meant bill would lowered, meant would less use credit cards. order keep usage generally good area used card intention pay monthly would result boost credit score, showing creditor pay doen. card good standing. credit good standing. xxxx xxxx xxxx citi abruptly slash balance card $8400.00 $5400.00 sends message reached credit limit. contacted said consult letter emailed xxxx. slashing action taken day letter xxxx recourse respond even aware action prior notification reaching limit, received xxxx xxxx. egregious act blindsided manipulates account make appear close reaching limit, fact near limit. could negatively impact credit score fault own.",
         "Consent provided",
         "Unknown",
         "2025-06-12 00:00:00",
         "2025-06-12 00:00:00",
         "Incorrect information on your report",
         "Credit card",
         "IL",
         "Account information incorrect",
         "General-purpose credit card or charge card",
         "Web",
         "Unknown",
         "Yes",
         "60067"
        ],
        [
         "4",
         ".00 $5400.00 sends message reached credit limit. contacted said consult letter emailed xxxx. slashing action taken day letter xxxx recourse respond even aware action prior notification reaching limit, received xxxx xxxx. egregious act blindsided manipulates account make appear close reaching limit, fact near limit. could negatively impact credit score fault own.",
         "364",
         "CITIBANK, N.A.",
         "Company has responded to the consumer and the CFPB and chooses not to provide a public response",
         "Closed with explanation",
         "14040217",
         "1199.0",
         "I have a Citi rewards cards. The credit balance issued to me was {$8400.00}. I recently moved, which meant my bills would be lowered, which meant I'd have LESS use for my credit cards. So in order to keep my usage in a generally good area I used each of my cards with the intention to pay them down monthly which would result in a boost to my credit score, showing creditors I can pay doen. All of my cards are in good standing. My credit is in good standing. But on the XXXX XXXX XXXX Citi abruptly slashes the balance of my card from {$8400.00} down to {$5400.00} and sends me a message that I have just about reached my credit limit. I contacted them and all they said was consult a letter they emailed on the XXXX. The slashing action was taken the day OF the letter ( XXXX ) and I had no recourse to respond nor was I even aware of this action prior to the notification about reaching my limit, which I received on or about the XXXX of XXXX. This is an egregious act that not only blindsided me but manipulates my account to make it APPEAR that I'm close to reaching the limit, when in fact I was no where near the limit. This could negatively impact my credit score through no fault of my own.",
         "citi reward cards. credit balance issued $8400.00. recently moved, meant bill would lowered, meant would less use credit cards. order keep usage generally good area used card intention pay monthly would result boost credit score, showing creditor pay doen. card good standing. credit good standing. xxxx xxxx xxxx citi abruptly slash balance card $8400.00 $5400.00 sends message reached credit limit. contacted said consult letter emailed xxxx. slashing action taken day letter xxxx recourse respond even aware action prior notification reaching limit, received xxxx xxxx. egregious act blindsided manipulates account make appear close reaching limit, fact near limit. could negatively impact credit score fault own.",
         "Consent provided",
         "Unknown",
         "2025-06-12 00:00:00",
         "2025-06-12 00:00:00",
         "Incorrect information on your report",
         "Credit card",
         "IL",
         "Account information incorrect",
         "General-purpose credit card or charge card",
         "Web",
         "Unknown",
         "Yes",
         "60067"
        ]
       ],
       "shape": {
        "columns": 22,
        "rows": 5
       }
      },
      "text/html": [
       "<div>\n",
       "<style scoped>\n",
       "    .dataframe tbody tr th:only-of-type {\n",
       "        vertical-align: middle;\n",
       "    }\n",
       "\n",
       "    .dataframe tbody tr th {\n",
       "        vertical-align: top;\n",
       "    }\n",
       "\n",
       "    .dataframe thead th {\n",
       "        text-align: right;\n",
       "    }\n",
       "</style>\n",
       "<table border=\"1\" class=\"dataframe\">\n",
       "  <thead>\n",
       "    <tr style=\"text-align: right;\">\n",
       "      <th></th>\n",
       "      <th>Chunk</th>\n",
       "      <th>Chunk Length</th>\n",
       "      <th>Company</th>\n",
       "      <th>Company Public Response</th>\n",
       "      <th>Company Response To Consumer</th>\n",
       "      <th>Complaint Id</th>\n",
       "      <th>Complaint Length</th>\n",
       "      <th>Consumer Complaint Narrative</th>\n",
       "      <th>Consumer Complaint Narrative Clean</th>\n",
       "      <th>Consumer Consent Provided?</th>\n",
       "      <th>...</th>\n",
       "      <th>Date Sent To Company</th>\n",
       "      <th>Issue</th>\n",
       "      <th>Product</th>\n",
       "      <th>State</th>\n",
       "      <th>Sub-Issue</th>\n",
       "      <th>Sub-Product</th>\n",
       "      <th>Submitted Via</th>\n",
       "      <th>Tags</th>\n",
       "      <th>Timely Response?</th>\n",
       "      <th>Zip Code</th>\n",
       "    </tr>\n",
       "  </thead>\n",
       "  <tbody>\n",
       "    <tr>\n",
       "      <th>0</th>\n",
       "      <td>xxxx xxxx card opened name fraudster. received...</td>\n",
       "      <td>311</td>\n",
       "      <td>CITIBANK, N.A.</td>\n",
       "      <td>Company has responded to the consumer and the ...</td>\n",
       "      <td>Closed with non-monetary relief</td>\n",
       "      <td>14069121</td>\n",
       "      <td>488.0</td>\n",
       "      <td>A XXXX XXXX card was opened under my name by a...</td>\n",
       "      <td>xxxx xxxx card opened name fraudster. received...</td>\n",
       "      <td>Consent provided</td>\n",
       "      <td>...</td>\n",
       "      <td>2025-06-13</td>\n",
       "      <td>Getting a credit card</td>\n",
       "      <td>Credit card</td>\n",
       "      <td>TX</td>\n",
       "      <td>Card opened without my consent or knowledge</td>\n",
       "      <td>Store credit card</td>\n",
       "      <td>Web</td>\n",
       "      <td>Servicemember</td>\n",
       "      <td>Yes</td>\n",
       "      <td>78230</td>\n",
       "    </tr>\n",
       "    <tr>\n",
       "      <th>1</th>\n",
       "      <td>made mistake using wellsfargo debit card depsi...</td>\n",
       "      <td>354</td>\n",
       "      <td>WELLS FARGO &amp; COMPANY</td>\n",
       "      <td>Company has responded to the consumer and the ...</td>\n",
       "      <td>Closed with explanation</td>\n",
       "      <td>14061897</td>\n",
       "      <td>555.0</td>\n",
       "      <td>I made the mistake of using my wellsfargo debi...</td>\n",
       "      <td>made mistake using wellsfargo debit card depsi...</td>\n",
       "      <td>Consent provided</td>\n",
       "      <td>...</td>\n",
       "      <td>2025-06-13</td>\n",
       "      <td>Managing an account</td>\n",
       "      <td>Checking or savings account</td>\n",
       "      <td>ID</td>\n",
       "      <td>Deposits and withdrawals</td>\n",
       "      <td>Checking account</td>\n",
       "      <td>Web</td>\n",
       "      <td>Unknown</td>\n",
       "      <td>Yes</td>\n",
       "      <td>83815</td>\n",
       "    </tr>\n",
       "    <tr>\n",
       "      <th>2</th>\n",
       "      <td>secured credit card citibank changed unsecured...</td>\n",
       "      <td>496</td>\n",
       "      <td>CITIBANK, N.A.</td>\n",
       "      <td>Company has responded to the consumer and the ...</td>\n",
       "      <td>Closed with monetary relief</td>\n",
       "      <td>14047085</td>\n",
       "      <td>806.0</td>\n",
       "      <td>Dear CFPB, I have a secured credit card with c...</td>\n",
       "      <td>secured credit card citibank changed unsecured...</td>\n",
       "      <td>Consent provided</td>\n",
       "      <td>...</td>\n",
       "      <td>2025-06-13</td>\n",
       "      <td>Other features, terms, or problems</td>\n",
       "      <td>Credit card</td>\n",
       "      <td>NY</td>\n",
       "      <td>Other problem</td>\n",
       "      <td>General-purpose credit card or charge card</td>\n",
       "      <td>Web</td>\n",
       "      <td>Unknown</td>\n",
       "      <td>Yes</td>\n",
       "      <td>11220</td>\n",
       "    </tr>\n",
       "    <tr>\n",
       "      <th>3</th>\n",
       "      <td>citi reward cards. credit balance issued $8400...</td>\n",
       "      <td>443</td>\n",
       "      <td>CITIBANK, N.A.</td>\n",
       "      <td>Company has responded to the consumer and the ...</td>\n",
       "      <td>Closed with explanation</td>\n",
       "      <td>14040217</td>\n",
       "      <td>1199.0</td>\n",
       "      <td>I have a Citi rewards cards. The credit balanc...</td>\n",
       "      <td>citi reward cards. credit balance issued $8400...</td>\n",
       "      <td>Consent provided</td>\n",
       "      <td>...</td>\n",
       "      <td>2025-06-12</td>\n",
       "      <td>Incorrect information on your report</td>\n",
       "      <td>Credit card</td>\n",
       "      <td>IL</td>\n",
       "      <td>Account information incorrect</td>\n",
       "      <td>General-purpose credit card or charge card</td>\n",
       "      <td>Web</td>\n",
       "      <td>Unknown</td>\n",
       "      <td>Yes</td>\n",
       "      <td>60067</td>\n",
       "    </tr>\n",
       "    <tr>\n",
       "      <th>4</th>\n",
       "      <td>.00 $5400.00 sends message reached credit limi...</td>\n",
       "      <td>364</td>\n",
       "      <td>CITIBANK, N.A.</td>\n",
       "      <td>Company has responded to the consumer and the ...</td>\n",
       "      <td>Closed with explanation</td>\n",
       "      <td>14040217</td>\n",
       "      <td>1199.0</td>\n",
       "      <td>I have a Citi rewards cards. The credit balanc...</td>\n",
       "      <td>citi reward cards. credit balance issued $8400...</td>\n",
       "      <td>Consent provided</td>\n",
       "      <td>...</td>\n",
       "      <td>2025-06-12</td>\n",
       "      <td>Incorrect information on your report</td>\n",
       "      <td>Credit card</td>\n",
       "      <td>IL</td>\n",
       "      <td>Account information incorrect</td>\n",
       "      <td>General-purpose credit card or charge card</td>\n",
       "      <td>Web</td>\n",
       "      <td>Unknown</td>\n",
       "      <td>Yes</td>\n",
       "      <td>60067</td>\n",
       "    </tr>\n",
       "  </tbody>\n",
       "</table>\n",
       "<p>5 rows × 22 columns</p>\n",
       "</div>"
      ],
      "text/plain": [
       "                                               Chunk  Chunk Length  \\\n",
       "0  xxxx xxxx card opened name fraudster. received...           311   \n",
       "1  made mistake using wellsfargo debit card depsi...           354   \n",
       "2  secured credit card citibank changed unsecured...           496   \n",
       "3  citi reward cards. credit balance issued $8400...           443   \n",
       "4  .00 $5400.00 sends message reached credit limi...           364   \n",
       "\n",
       "                 Company                            Company Public Response  \\\n",
       "0         CITIBANK, N.A.  Company has responded to the consumer and the ...   \n",
       "1  WELLS FARGO & COMPANY  Company has responded to the consumer and the ...   \n",
       "2         CITIBANK, N.A.  Company has responded to the consumer and the ...   \n",
       "3         CITIBANK, N.A.  Company has responded to the consumer and the ...   \n",
       "4         CITIBANK, N.A.  Company has responded to the consumer and the ...   \n",
       "\n",
       "      Company Response To Consumer  Complaint Id  Complaint Length  \\\n",
       "0  Closed with non-monetary relief      14069121             488.0   \n",
       "1          Closed with explanation      14061897             555.0   \n",
       "2      Closed with monetary relief      14047085             806.0   \n",
       "3          Closed with explanation      14040217            1199.0   \n",
       "4          Closed with explanation      14040217            1199.0   \n",
       "\n",
       "                        Consumer Complaint Narrative  \\\n",
       "0  A XXXX XXXX card was opened under my name by a...   \n",
       "1  I made the mistake of using my wellsfargo debi...   \n",
       "2  Dear CFPB, I have a secured credit card with c...   \n",
       "3  I have a Citi rewards cards. The credit balanc...   \n",
       "4  I have a Citi rewards cards. The credit balanc...   \n",
       "\n",
       "                  Consumer Complaint Narrative Clean  \\\n",
       "0  xxxx xxxx card opened name fraudster. received...   \n",
       "1  made mistake using wellsfargo debit card depsi...   \n",
       "2  secured credit card citibank changed unsecured...   \n",
       "3  citi reward cards. credit balance issued $8400...   \n",
       "4  citi reward cards. credit balance issued $8400...   \n",
       "\n",
       "  Consumer Consent Provided?  ... Date Sent To Company  \\\n",
       "0           Consent provided  ...           2025-06-13   \n",
       "1           Consent provided  ...           2025-06-13   \n",
       "2           Consent provided  ...           2025-06-13   \n",
       "3           Consent provided  ...           2025-06-12   \n",
       "4           Consent provided  ...           2025-06-12   \n",
       "\n",
       "                                  Issue                      Product State  \\\n",
       "0                 Getting a credit card                  Credit card    TX   \n",
       "1                   Managing an account  Checking or savings account    ID   \n",
       "2    Other features, terms, or problems                  Credit card    NY   \n",
       "3  Incorrect information on your report                  Credit card    IL   \n",
       "4  Incorrect information on your report                  Credit card    IL   \n",
       "\n",
       "                                     Sub-Issue  \\\n",
       "0  Card opened without my consent or knowledge   \n",
       "1                     Deposits and withdrawals   \n",
       "2                                Other problem   \n",
       "3                Account information incorrect   \n",
       "4                Account information incorrect   \n",
       "\n",
       "                                  Sub-Product Submitted Via           Tags  \\\n",
       "0                           Store credit card           Web  Servicemember   \n",
       "1                            Checking account           Web        Unknown   \n",
       "2  General-purpose credit card or charge card           Web        Unknown   \n",
       "3  General-purpose credit card or charge card           Web        Unknown   \n",
       "4  General-purpose credit card or charge card           Web        Unknown   \n",
       "\n",
       "  Timely Response? Zip Code  \n",
       "0              Yes    78230  \n",
       "1              Yes    83815  \n",
       "2              Yes    11220  \n",
       "3              Yes    60067  \n",
       "4              Yes    60067  \n",
       "\n",
       "[5 rows x 22 columns]"
      ]
     },
     "metadata": {},
     "output_type": "display_data"
    },
    {
     "name": "stdout",
     "output_type": "stream",
     "text": [
      "\n",
      "DataFrame shape after exploding (Chunked DataFrame): (1022264, 22)\n",
      "DataFrame shape before exploding: (456510, 21)\n",
      "\n",
      "Chunked DataFrame summary:\n",
      "<class 'pandas.core.frame.DataFrame'>\n",
      "RangeIndex: 1022264 entries, 0 to 1022263\n",
      "Data columns (total 22 columns):\n",
      " #   Column                              Non-Null Count    Dtype         \n",
      "---  ------                              --------------    -----         \n",
      " 0   Chunk                               1022264 non-null  object        \n",
      " 1   Chunk Length                        1022264 non-null  int64         \n",
      " 2   Company                             1022264 non-null  object        \n",
      " 3   Company Public Response             1022264 non-null  object        \n",
      " 4   Company Response To Consumer        1022264 non-null  object        \n",
      " 5   Complaint Id                        1022264 non-null  int64         \n",
      " 6   Complaint Length                    1022264 non-null  float64       \n",
      " 7   Consumer Complaint Narrative        1022264 non-null  object        \n",
      " 8   Consumer Complaint Narrative Clean  1022264 non-null  object        \n",
      " 9   Consumer Consent Provided?          1022264 non-null  object        \n",
      " 10  Consumer Disputed?                  1022264 non-null  object        \n",
      " 11  Date Received                       1022264 non-null  datetime64[ns]\n",
      " 12  Date Sent To Company                1022264 non-null  datetime64[ns]\n",
      " 13  Issue                               1022264 non-null  object        \n",
      " 14  Product                             1022264 non-null  object        \n",
      " 15  State                               1022264 non-null  object        \n",
      " 16  Sub-Issue                           1022264 non-null  object        \n",
      " 17  Sub-Product                         1022264 non-null  object        \n",
      " 18  Submitted Via                       1022264 non-null  object        \n",
      " 19  Tags                                1022264 non-null  object        \n",
      " 20  Timely Response?                    1022264 non-null  object        \n",
      " 21  Zip Code                            1022264 non-null  object        \n",
      "dtypes: datetime64[ns](2), float64(1), int64(2), object(17)\n",
      "memory usage: 171.6+ MB\n",
      "\n",
      "Plot saved to ..\\plots\\02_chunking_embedding\\Distribution of Chunk Lengths.png\n"
     ]
    },
    {
     "data": {
      "image/png": "[encoded data removed]",
      "text/plain": [
       "<Figure size 1000x600 with 1 Axes>"
      ]
     },
     "metadata": {},
     "output_type": "display_data"
    },
    {
     "name": "stdout",
     "output_type": "stream",
     "text": [
      "\n",
      "Chunked DataFrame saved to: ..\\data\\processed\\chunked_complaints.csv\n"
     ]
    }
   ],
   "source": [
    "# Chunking and plotting\n",
    "chunker.chunk_narrative()\n",
    "\n",
    "chunker.plot_chunk_lengths()\n",
    "\n",
    "chunker.save_df()"
   ]
  },
  {
   "cell_type": "markdown",
   "id": "35883ce5",
   "metadata": {},
   "source": [
    "# **Embedding**"
   ]
  },
  {
   "cell_type": "code",
   "execution_count": 7,
   "id": "a121c947",
   "metadata": {},
   "outputs": [
    {
     "data": {
      "application/vnd.microsoft.datawrangler.viewer.v0+json": {
       "columns": [
        {
         "name": "index",
         "rawType": "int64",
         "type": "integer"
        },
        {
         "name": "Clean Consumer Complaint Narrative",
         "rawType": "object",
         "type": "string"
        },
        {
         "name": "Company",
         "rawType": "object",
         "type": "string"
        },
        {
         "name": "Company Public Response",
         "rawType": "object",
         "type": "string"
        },
        {
         "name": "Company Response To Consumer",
         "rawType": "object",
         "type": "string"
        },
        {
         "name": "Complaint Id",
         "rawType": "int64",
         "type": "integer"
        },
        {
         "name": "Complaint Length",
         "rawType": "float64",
         "type": "float"
        },
        {
         "name": "Consumer Complaint Narrative",
         "rawType": "object",
         "type": "string"
        },
        {
         "name": "Consumer Consent Provided?",
         "rawType": "object",
         "type": "string"
        },
        {
         "name": "Consumer Disputed?",
         "rawType": "object",
         "type": "string"
        },
        {
         "name": "Date Received",
         "rawType": "object",
         "type": "string"
        },
        {
         "name": "Date Sent To Company",
         "rawType": "object",
         "type": "string"
        },
        {
         "name": "Issue",
         "rawType": "object",
         "type": "string"
        },
        {
         "name": "Product",
         "rawType": "object",
         "type": "string"
        },
        {
         "name": "State",
         "rawType": "object",
         "type": "string"
        },
        {
         "name": "Sub-Issue",
         "rawType": "object",
         "type": "string"
        },
        {
         "name": "Sub-Product",
         "rawType": "object",
         "type": "string"
        },
        {
         "name": "Submitted Via",
         "rawType": "object",
         "type": "string"
        },
        {
         "name": "Tags",
         "rawType": "object",
         "type": "string"
        },
        {
         "name": "Timely Response?",
         "rawType": "object",
         "type": "string"
        },
        {
         "name": "Zip Code",
         "rawType": "object",
         "type": "string"
        }
       ],
       "ref": "ff8e50cb-0a2a-44c0-9fea-7ee514f2b889",
       "rows": [
        [
         "0",
         "xxxx xxxx card opened name fraudster. received notice xxxx account opened name. reached xxxx xxxx state activity unauthorized me. xxxx xxxx confirmed fraudulent immediately closed card. however, failed remove three credit agency fraud impacting credit score based hard credit pull done xxxx xxxx done fraudster.",
         "CITIBANK, N.A.",
         "Company has responded to the consumer and the CFPB and chooses not to provide a public response",
         "Closed with non-monetary relief",
         "14069121",
         "488.0",
         "A XXXX XXXX card was opened under my name by a fraudster. I received a notice from XXXX  that an account was just opened under my name. I reached out to XXXX XXXX to state that this activity was unauthorized and not me. XXXX XXXX confirmed this was fraudulent and immediately closed the card. However, they have failed to remove this from the three credit agencies and this fraud is now impacting my credit score based on a hard credit pull done by XXXX XXXX that was done by a fraudster.",
         "Consent provided",
         "Unknown",
         "2025-06-13",
         "2025-06-13",
         "Getting a credit card",
         "Credit card",
         "TX",
         "Card opened without my consent or knowledge",
         "Store credit card",
         "Web",
         "Servicemember",
         "Yes",
         "78230"
        ],
        [
         "1",
         "made mistake using wellsfargo debit card depsit fund xxxxxxxx atm machine outside branch. went branch told could help phone customer service help. told helped gave info time terminal id aact # s, xxxx able find transaction give info, said dispute would take days. waited day got letter stating dispute rejected. went back xxxx said never got transaction.",
         "WELLS FARGO & COMPANY",
         "Company has responded to the consumer and the CFPB and chooses not to provide a public response",
         "Closed with explanation",
         "14061897",
         "555.0",
         "I made the mistake of using my wellsfargo debit card to depsit funds Into XXXXXXXX ATM machine outside their branch. \n\nI went into the branch and was told they couldn't help and had to phone the customer service for help. I did this and was told I was helped gave all the info for the time terminal id aact # s, XXXX was able to find the transaction and give me this info, he said the dispute would take a few days. \n\nI waited a few days and got a letter stating my dispute was rejected. I went back into XXXX and they said they never got the transaction.",
         "Consent provided",
         "Unknown",
         "2025-06-13",
         "2025-06-13",
         "Managing an account",
         "Checking or savings account",
         "ID",
         "Deposits and withdrawals",
         "Checking account",
         "Web",
         "Unknown",
         "Yes",
         "83815"
        ],
        [
         "2",
         "secured credit card citibank changed unsecured card calling n waitting check release secured amount $2500.00 rhat credit card. told wait today told someone cashed check system info who, happen!! requested case number send confirmation whatsoever report police. told wait form might sent via mail within 14 day fill out. called customer service second time today manager told thing, info help all! please help me, big bank service terrible lil customer like nothing! thank much look forward reply!",
         "CITIBANK, N.A.",
         "Company has responded to the consumer and the CFPB and chooses not to provide a public response",
         "Closed with monetary relief",
         "14047085",
         "806.0",
         "Dear CFPB, I have a secured credit card with citibank which is changed to unsecured card and I have been calling n waitting for the check release the secured amount {$2500.00} for rhat credit card. They told me to wait then today they told me someone cashed my check but their system doesnt have info as of who, where and when did it happen!!\n\nI requested a case number but they wont send me any confirmation whatsoever to report to the police.\n\nThey told me I have to wait for some form that might be sent to me via mail within 14 days to fill out. I called customer service second time today and their manager told me same thing, no info no help at all! Please help me, it's a big bank but the service is so terrible and lil customer like me can do nothing! Thank so much and look forward for your reply!",
         "Consent provided",
         "Unknown",
         "2025-06-12",
         "2025-06-13",
         "Other features, terms, or problems",
         "Credit card",
         "NY",
         "Other problem",
         "General-purpose credit card or charge card",
         "Web",
         "Unknown",
         "Yes",
         "11220"
        ],
        [
         "3",
         "citi reward cards. credit balance issued $8400.00. recently moved, meant bill would lowered, meant would less use credit cards. order keep usage generally good area used card intention pay monthly would result boost credit score, showing creditor pay doen. card good standing. credit good standing. xxxx xxxx xxxx citi abruptly slash balance card $8400.00 $5400.00 sends message reached credit limit. contacted said consult letter emailed xxxx. slashing action taken day letter xxxx recourse respond even aware action prior notification reaching limit, received xxxx xxxx. egregious act blindsided manipulates account make appear close reaching limit, fact near limit. could negatively impact credit score fault own.",
         "CITIBANK, N.A.",
         "Company has responded to the consumer and the CFPB and chooses not to provide a public response",
         "Closed with explanation",
         "14040217",
         "1199.0",
         "I have a Citi rewards cards. The credit balance issued to me was {$8400.00}. I recently moved, which meant my bills would be lowered, which meant I'd have LESS use for my credit cards. So in order to keep my usage in a generally good area I used each of my cards with the intention to pay them down monthly which would result in a boost to my credit score, showing creditors I can pay doen. All of my cards are in good standing. My credit is in good standing. But on the XXXX XXXX XXXX Citi abruptly slashes the balance of my card from {$8400.00} down to {$5400.00} and sends me a message that I have just about reached my credit limit. I contacted them and all they said was consult a letter they emailed on the XXXX. The slashing action was taken the day OF the letter ( XXXX ) and I had no recourse to respond nor was I even aware of this action prior to the notification about reaching my limit, which I received on or about the XXXX of XXXX. This is an egregious act that not only blindsided me but manipulates my account to make it APPEAR that I'm close to reaching the limit, when in fact I was no where near the limit. This could negatively impact my credit score through no fault of my own.",
         "Consent provided",
         "Unknown",
         "2025-06-12",
         "2025-06-12",
         "Incorrect information on your report",
         "Credit card",
         "IL",
         "Account information incorrect",
         "General-purpose credit card or charge card",
         "Web",
         "Unknown",
         "Yes",
         "60067"
        ],
        [
         "4",
         "bi writing dispute following charge citi credit card account become victim identity theft someone made purchase without authorization, made purchase knowledge them, strongly believe unauthorized transaction result identity theft. attachment fromxxxxxxxxshowing new address also fraudulent, lived murfreesboro, tn xxxxxxxx, became aware fraudulent charges. started communication citi, xxxxxxxxabout unauthorized fraudulent charge, also included statements, credit score negative point due inaccurate charges. several attempt clear matter, become apparent ignored citi. sure proceed try get right help clear matter. hoping reached correct citi group clear matter.nnaccount opened xxxxxxxxcredit card numberxxxxxxxxn1.tcharge #1 xxxxxxxx charge amount disputed citi closed account mailed 2nd different account.nnew citi credit card replacement xxxxxxxxn xxxxxxxxtcharge #2 interest charge previously monthly payment total xxxxxxxx dollars. charge amount disputed citi closed account mailed 3rd different account.nnew citi credit card replacemenxxxxxxxxtcharge #3 interest charge including previously monthly payment total xxxxxxxxni made three 3 phone call attempt phone numberxxxxxxxx march 4, 2025 thrxxxxxxxx citi resolve unauthorized charge citi avail. return citi closed original credit card credit card number listed kept transferring unauthorized charge original credit card opened xxxxxxxxo new credit card accounts. citi need remove charge credit account showing zero balance, make purchase whatsoever responsible payments. citi turned late payment exceeding 30 day credit bureau cost negative ofxxxxxxxx points. lost faith communicating citi telephone resolve issue extremely frustrating. need help clear matter.nni requesting immediately remove charge account credit account total amount ofxxxxxxxxdollars. also request investigate unauthorized transaction take step prevent future fraudulent charge account.nni attached copy credit card statement document support claim.nnplease send written confirmation removed fraudulent charge credited account, also investigated matter.nnthank prompt attention matter.",
         "CITIBANK, N.A.",
         "Company has responded to the consumer and the CFPB and chooses not to provide a public response",
         "Closed with monetary relief",
         "13968411",
         "2908.0",
         "b'I am writing to dispute the following charges on my CITI Credit Card Accounts where I have become a victim of identity theft when someone made a purchase without my authorization, I have not made any purchases and have no knowledge of them, I strongly believe the unauthorized transaction are the result of identity theft. An attachment fromXX/XX/XXXXshowing a new address for me is also fraudulent, I do not have or lived in Murfreesboro, TN  XX/XX/XXXX, thats when I became aware of the fraudulent charges. I then started the communications with CITI, XX/XX/XXXXabout the unauthorized fraudulent charge, I also included statements, credit score negative points due to inaccurate charges. After several attempts to clear this matter, it has become apparent that I am being ignored by CITI. I am not sure how to proceed to try and get the right help to clear this matter. I am hoping I have reached the correct CITI group to clear this matter.\\n\\nAccount Opened: XX/XX/XXXXcredit card number:XX/XX/XXXXn1.\\tCharge #1 of XX/XX/XXXX Charge amount was disputed and CITI closed account and mailed a 2nd different account.\\nNew CITI credit card replacement: XX/XX/XXXXn XX/XX/XXXXtCharge #2 interest charge and previously monthly payment total: XX/XX/XXXX dollars. Charge amount was disputed and CITI closed account and mailed a 3rd  different account.\\nNew CITI credit card replacemenXX/XX/XXXX\\tCharge #3 interest charge including previously monthly payment total XX/XX/XXXX\\nI have made three (3) phone call attempts to phone numberXX/XX/XXXX between March 4, 2025 thrXX/XX/XXXX to CITI to resolve the unauthorized charges with CITI to no avail. In return CITI has closed the original credit card with the credit card numbers as listed above but has kept transferring the unauthorized charges of the original credit card that was opened on XX/XX/XXXXo the new credit card accounts. CITI needs to remove all charges and credit my account showing a zero balance, I did not make any purchases whatsoever and I should not be responsible for any payments. CITI has turned in a late payment exceeding 30 days to the credit bureau and it has cost me a negative ofXX/XX/XXXX points. I have lost all faith in communicating with CITI by telephone to resolve this issue that is extremely frustrating. I need help to clear this matter.\\n\\nI am requesting that you immediately remove these charges from my account and credit my account for the total amount ofXX/XX/XXXXdollars. I also request that you investigate these unauthorized transaction and take steps to prevent future fraudulent charges to my account.\\n\\nI have attached copies of my credit card statement and other documents that support my claim.\\n\\nPlease send me written confirmation that you have removed the fraudulent charges and credited my account, and also that you have investigated the matter.\\n\\nThank you for your prompt attention to this matter.'",
         "Consent provided",
         "Unknown",
         "2025-06-09",
         "2025-06-09",
         "Problem with a purchase shown on your statement",
         "Credit card",
         "TX",
         "Credit card company isn't resolving a dispute about a purchase on your statement",
         "General-purpose credit card or charge card",
         "Web",
         "Older American",
         "Yes",
         "78413"
        ]
       ],
       "shape": {
        "columns": 20,
        "rows": 5
       }
      },
      "text/html": [
       "<div>\n",
       "<style scoped>\n",
       "    .dataframe tbody tr th:only-of-type {\n",
       "        vertical-align: middle;\n",
       "    }\n",
       "\n",
       "    .dataframe tbody tr th {\n",
       "        vertical-align: top;\n",
       "    }\n",
       "\n",
       "    .dataframe thead th {\n",
       "        text-align: right;\n",
       "    }\n",
       "</style>\n",
       "<table border=\"1\" class=\"dataframe\">\n",
       "  <thead>\n",
       "    <tr style=\"text-align: right;\">\n",
       "      <th></th>\n",
       "      <th>Clean Consumer Complaint Narrative</th>\n",
       "      <th>Company</th>\n",
       "      <th>Company Public Response</th>\n",
       "      <th>Company Response To Consumer</th>\n",
       "      <th>Complaint Id</th>\n",
       "      <th>Complaint Length</th>\n",
       "      <th>Consumer Complaint Narrative</th>\n",
       "      <th>Consumer Consent Provided?</th>\n",
       "      <th>Consumer Disputed?</th>\n",
       "      <th>Date Received</th>\n",
       "      <th>Date Sent To Company</th>\n",
       "      <th>Issue</th>\n",
       "      <th>Product</th>\n",
       "      <th>State</th>\n",
       "      <th>Sub-Issue</th>\n",
       "      <th>Sub-Product</th>\n",
       "      <th>Submitted Via</th>\n",
       "      <th>Tags</th>\n",
       "      <th>Timely Response?</th>\n",
       "      <th>Zip Code</th>\n",
       "    </tr>\n",
       "  </thead>\n",
       "  <tbody>\n",
       "    <tr>\n",
       "      <th>0</th>\n",
       "      <td>xxxx xxxx card opened name fraudster. received...</td>\n",
       "      <td>CITIBANK, N.A.</td>\n",
       "      <td>Company has responded to the consumer and the ...</td>\n",
       "      <td>Closed with non-monetary relief</td>\n",
       "      <td>14069121</td>\n",
       "      <td>488.0</td>\n",
       "      <td>A XXXX XXXX card was opened under my name by a...</td>\n",
       "      <td>Consent provided</td>\n",
       "      <td>Unknown</td>\n",
       "      <td>2025-06-13</td>\n",
       "      <td>2025-06-13</td>\n",
       "      <td>Getting a credit card</td>\n",
       "      <td>Credit card</td>\n",
       "      <td>TX</td>\n",
       "      <td>Card opened without my consent or knowledge</td>\n",
       "      <td>Store credit card</td>\n",
       "      <td>Web</td>\n",
       "      <td>Servicemember</td>\n",
       "      <td>Yes</td>\n",
       "      <td>78230</td>\n",
       "    </tr>\n",
       "    <tr>\n",
       "      <th>1</th>\n",
       "      <td>made mistake using wellsfargo debit card depsi...</td>\n",
       "      <td>WELLS FARGO &amp; COMPANY</td>\n",
       "      <td>Company has responded to the consumer and the ...</td>\n",
       "      <td>Closed with explanation</td>\n",
       "      <td>14061897</td>\n",
       "      <td>555.0</td>\n",
       "      <td>I made the mistake of using my wellsfargo debi...</td>\n",
       "      <td>Consent provided</td>\n",
       "      <td>Unknown</td>\n",
       "      <td>2025-06-13</td>\n",
       "      <td>2025-06-13</td>\n",
       "      <td>Managing an account</td>\n",
       "      <td>Checking or savings account</td>\n",
       "      <td>ID</td>\n",
       "      <td>Deposits and withdrawals</td>\n",
       "      <td>Checking account</td>\n",
       "      <td>Web</td>\n",
       "      <td>Unknown</td>\n",
       "      <td>Yes</td>\n",
       "      <td>83815</td>\n",
       "    </tr>\n",
       "    <tr>\n",
       "      <th>2</th>\n",
       "      <td>secured credit card citibank changed unsecured...</td>\n",
       "      <td>CITIBANK, N.A.</td>\n",
       "      <td>Company has responded to the consumer and the ...</td>\n",
       "      <td>Closed with monetary relief</td>\n",
       "      <td>14047085</td>\n",
       "      <td>806.0</td>\n",
       "      <td>Dear CFPB, I have a secured credit card with c...</td>\n",
       "      <td>Consent provided</td>\n",
       "      <td>Unknown</td>\n",
       "      <td>2025-06-12</td>\n",
       "      <td>2025-06-13</td>\n",
       "      <td>Other features, terms, or problems</td>\n",
       "      <td>Credit card</td>\n",
       "      <td>NY</td>\n",
       "      <td>Other problem</td>\n",
       "      <td>General-purpose credit card or charge card</td>\n",
       "      <td>Web</td>\n",
       "      <td>Unknown</td>\n",
       "      <td>Yes</td>\n",
       "      <td>11220</td>\n",
       "    </tr>\n",
       "    <tr>\n",
       "      <th>3</th>\n",
       "      <td>citi reward cards. credit balance issued $8400...</td>\n",
       "      <td>CITIBANK, N.A.</td>\n",
       "      <td>Company has responded to the consumer and the ...</td>\n",
       "      <td>Closed with explanation</td>\n",
       "      <td>14040217</td>\n",
       "      <td>1199.0</td>\n",
       "      <td>I have a Citi rewards cards. The credit balanc...</td>\n",
       "      <td>Consent provided</td>\n",
       "      <td>Unknown</td>\n",
       "      <td>2025-06-12</td>\n",
       "      <td>2025-06-12</td>\n",
       "      <td>Incorrect information on your report</td>\n",
       "      <td>Credit card</td>\n",
       "      <td>IL</td>\n",
       "      <td>Account information incorrect</td>\n",
       "      <td>General-purpose credit card or charge card</td>\n",
       "      <td>Web</td>\n",
       "      <td>Unknown</td>\n",
       "      <td>Yes</td>\n",
       "      <td>60067</td>\n",
       "    </tr>\n",
       "    <tr>\n",
       "      <th>4</th>\n",
       "      <td>bi writing dispute following charge citi credi...</td>\n",
       "      <td>CITIBANK, N.A.</td>\n",
       "      <td>Company has responded to the consumer and the ...</td>\n",
       "      <td>Closed with monetary relief</td>\n",
       "      <td>13968411</td>\n",
       "      <td>2908.0</td>\n",
       "      <td>b'I am writing to dispute the following charge...</td>\n",
       "      <td>Consent provided</td>\n",
       "      <td>Unknown</td>\n",
       "      <td>2025-06-09</td>\n",
       "      <td>2025-06-09</td>\n",
       "      <td>Problem with a purchase shown on your statement</td>\n",
       "      <td>Credit card</td>\n",
       "      <td>TX</td>\n",
       "      <td>Credit card company isn't resolving a dispute ...</td>\n",
       "      <td>General-purpose credit card or charge card</td>\n",
       "      <td>Web</td>\n",
       "      <td>Older American</td>\n",
       "      <td>Yes</td>\n",
       "      <td>78413</td>\n",
       "    </tr>\n",
       "  </tbody>\n",
       "</table>\n",
       "</div>"
      ],
      "text/plain": [
       "                  Clean Consumer Complaint Narrative                Company  \\\n",
       "0  xxxx xxxx card opened name fraudster. received...         CITIBANK, N.A.   \n",
       "1  made mistake using wellsfargo debit card depsi...  WELLS FARGO & COMPANY   \n",
       "2  secured credit card citibank changed unsecured...         CITIBANK, N.A.   \n",
       "3  citi reward cards. credit balance issued $8400...         CITIBANK, N.A.   \n",
       "4  bi writing dispute following charge citi credi...         CITIBANK, N.A.   \n",
       "\n",
       "                             Company Public Response  \\\n",
       "0  Company has responded to the consumer and the ...   \n",
       "1  Company has responded to the consumer and the ...   \n",
       "2  Company has responded to the consumer and the ...   \n",
       "3  Company has responded to the consumer and the ...   \n",
       "4  Company has responded to the consumer and the ...   \n",
       "\n",
       "      Company Response To Consumer  Complaint Id  Complaint Length  \\\n",
       "0  Closed with non-monetary relief      14069121             488.0   \n",
       "1          Closed with explanation      14061897             555.0   \n",
       "2      Closed with monetary relief      14047085             806.0   \n",
       "3          Closed with explanation      14040217            1199.0   \n",
       "4      Closed with monetary relief      13968411            2908.0   \n",
       "\n",
       "                        Consumer Complaint Narrative  \\\n",
       "0  A XXXX XXXX card was opened under my name by a...   \n",
       "1  I made the mistake of using my wellsfargo debi...   \n",
       "2  Dear CFPB, I have a secured credit card with c...   \n",
       "3  I have a Citi rewards cards. The credit balanc...   \n",
       "4  b'I am writing to dispute the following charge...   \n",
       "\n",
       "  Consumer Consent Provided? Consumer Disputed? Date Received  \\\n",
       "0           Consent provided            Unknown    2025-06-13   \n",
       "1           Consent provided            Unknown    2025-06-13   \n",
       "2           Consent provided            Unknown    2025-06-12   \n",
       "3           Consent provided            Unknown    2025-06-12   \n",
       "4           Consent provided            Unknown    2025-06-09   \n",
       "\n",
       "  Date Sent To Company                                            Issue  \\\n",
       "0           2025-06-13                            Getting a credit card   \n",
       "1           2025-06-13                              Managing an account   \n",
       "2           2025-06-13               Other features, terms, or problems   \n",
       "3           2025-06-12             Incorrect information on your report   \n",
       "4           2025-06-09  Problem with a purchase shown on your statement   \n",
       "\n",
       "                       Product State  \\\n",
       "0                  Credit card    TX   \n",
       "1  Checking or savings account    ID   \n",
       "2                  Credit card    NY   \n",
       "3                  Credit card    IL   \n",
       "4                  Credit card    TX   \n",
       "\n",
       "                                           Sub-Issue  \\\n",
       "0        Card opened without my consent or knowledge   \n",
       "1                           Deposits and withdrawals   \n",
       "2                                      Other problem   \n",
       "3                      Account information incorrect   \n",
       "4  Credit card company isn't resolving a dispute ...   \n",
       "\n",
       "                                  Sub-Product Submitted Via            Tags  \\\n",
       "0                           Store credit card           Web   Servicemember   \n",
       "1                            Checking account           Web         Unknown   \n",
       "2  General-purpose credit card or charge card           Web         Unknown   \n",
       "3  General-purpose credit card or charge card           Web         Unknown   \n",
       "4  General-purpose credit card or charge card           Web  Older American   \n",
       "\n",
       "  Timely Response? Zip Code  \n",
       "0              Yes    78230  \n",
       "1              Yes    83815  \n",
       "2              Yes    11220  \n",
       "3              Yes    60067  \n",
       "4              Yes    78413  "
      ]
     },
     "execution_count": 7,
     "metadata": {},
     "output_type": "execute_result"
    }
   ],
   "source": [
    "import pandas as pd\n",
    "df=pd.read_csv(\"../data/processed/filtered_complaints.csv\")\n",
    "df.head()"
   ]
  },
  {
   "cell_type": "code",
   "execution_count": 10,
   "id": "33a50493",
   "metadata": {},
   "outputs": [
    {
     "data": {
      "application/vnd.microsoft.datawrangler.viewer.v0+json": {
       "columns": [
        {
         "name": "Consumer Disputed?",
         "rawType": "object",
         "type": "string"
        },
        {
         "name": "count",
         "rawType": "int64",
         "type": "integer"
        }
       ],
       "ref": "67164a21-629e-4739-b35c-48b1bf2617a4",
       "rows": [
        [
         "Unknown",
         "434138"
        ],
        [
         "No",
         "17511"
        ],
        [
         "Yes",
         "4861"
        ]
       ],
       "shape": {
        "columns": 1,
        "rows": 3
       }
      },
      "text/plain": [
       "Consumer Disputed?\n",
       "Unknown    434138\n",
       "No          17511\n",
       "Yes          4861\n",
       "Name: count, dtype: int64"
      ]
     },
     "execution_count": 10,
     "metadata": {},
     "output_type": "execute_result"
    }
   ],
   "source": [
    "df['Consumer Disputed?'].value_counts()"
   ]
  }
 ],
 "metadata": {
  "kernelspec": {
   "display_name": ".chatvenv",
   "language": "python",
   "name": "python3"
  },
  "language_info": {
   "codemirror_mode": {
    "name": "ipython",
    "version": 3
   },
   "file_extension": ".py",
   "mimetype": "text/x-python",
   "name": "python",
   "nbconvert_exporter": "python",
   "pygments_lexer": "ipython3",
   "version": "3.12.3"
  }
 },
 "nbformat": 4,
 "nbformat_minor": 5
}
