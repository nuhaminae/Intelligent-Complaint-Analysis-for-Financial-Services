{
 "cells": [
  {
   "cell_type": "markdown",
   "id": "7a72aeb5",
   "metadata": {},
   "source": [
    "# **Import Modules**"
   ]
  },
  {
   "cell_type": "markdown",
   "id": "61a30c07",
   "metadata": {},
   "source": [
    "## *python*"
   ]
  },
  {
   "cell_type": "code",
   "execution_count": 1,
   "id": "ce749330",
   "metadata": {},
   "outputs": [],
   "source": [
    "# Import python modules\n",
    "import os\n",
    "import sys"
   ]
  },
  {
   "cell_type": "markdown",
   "id": "4c49b24d",
   "metadata": {},
   "source": [
    "## *custom*"
   ]
  },
  {
   "cell_type": "code",
   "execution_count": 2,
   "id": "a00f3052",
   "metadata": {},
   "outputs": [],
   "source": [
    "# Import customised modules\n",
    "\n",
    "# Define path\n",
    "sys.path.append(os.path.abspath(os.path.join(\"..\")))\n",
    "\n",
    "# Import relevant modules\n",
    "try:\n",
    "    from scripts._01_preprocess_data import EDA\n",
    "\n",
    "except ImportError:\n",
    "    print(\"Could not import module from `scripts/`.\")"
   ]
  },
  {
   "cell_type": "markdown",
   "id": "db8cf242",
   "metadata": {},
   "source": [
    "# **Perform Explatory Data Analysis**"
   ]
  },
  {
   "cell_type": "code",
   "execution_count": 3,
   "id": "c0181834",
   "metadata": {},
   "outputs": [],
   "source": [
    "# Define DataFrame path\n",
    "df_path = os.path.join(os.path.dirname(os.getcwd()), \"data/raw/complaints.csv\")\n",
    "plot_dir = os.path.join(os.path.dirname(os.getcwd()), \"plots/01_eda\")\n",
    "processed_dir = os.path.join(os.path.dirname(os.getcwd()), \"data\", \"processed\")"
   ]
  },
  {
   "cell_type": "code",
   "execution_count": 4,
   "id": "7bd63ec2",
   "metadata": {},
   "outputs": [
    {
     "name": "stdout",
     "output_type": "stream",
     "text": [
      "DataFrame loaded successfully from ..\\data\\raw\\complaints.csv\n",
      "\n",
      "🔹 DataFrame head:\n"
     ]
    },
    {
     "data": {
      "application/vnd.microsoft.datawrangler.viewer.v0+json": {
       "columns": [
        {
         "name": "index",
         "rawType": "int64",
         "type": "integer"
        },
        {
         "name": "Date Received",
         "rawType": "datetime64[ns]",
         "type": "datetime"
        },
        {
         "name": "Product",
         "rawType": "object",
         "type": "string"
        },
        {
         "name": "Sub-Product",
         "rawType": "object",
         "type": "string"
        },
        {
         "name": "Issue",
         "rawType": "object",
         "type": "string"
        },
        {
         "name": "Sub-Issue",
         "rawType": "object",
         "type": "string"
        },
        {
         "name": "Consumer Complaint Narrative",
         "rawType": "object",
         "type": "unknown"
        },
        {
         "name": "Company Public Response",
         "rawType": "object",
         "type": "unknown"
        },
        {
         "name": "Company",
         "rawType": "object",
         "type": "string"
        },
        {
         "name": "State",
         "rawType": "object",
         "type": "string"
        },
        {
         "name": "Zip Code",
         "rawType": "object",
         "type": "string"
        },
        {
         "name": "Tags",
         "rawType": "object",
         "type": "unknown"
        },
        {
         "name": "Consumer Consent Provided?",
         "rawType": "object",
         "type": "unknown"
        },
        {
         "name": "Submitted Via",
         "rawType": "object",
         "type": "string"
        },
        {
         "name": "Date Sent To Company",
         "rawType": "datetime64[ns]",
         "type": "datetime"
        },
        {
         "name": "Company Response To Consumer",
         "rawType": "object",
         "type": "string"
        },
        {
         "name": "Timely Response?",
         "rawType": "object",
         "type": "string"
        },
        {
         "name": "Consumer Disputed?",
         "rawType": "object",
         "type": "unknown"
        },
        {
         "name": "Complaint Id",
         "rawType": "int64",
         "type": "integer"
        }
       ],
       "ref": "eefc391d-227e-4896-83b1-34f40a2a661a",
       "rows": [
        [
         "0",
         "2025-06-20 00:00:00",
         "Credit reporting or other personal consumer reports",
         "Credit reporting",
         "Incorrect information on your report",
         "Information belongs to someone else",
         null,
         null,
         "Experian Information Solutions Inc.",
         "FL",
         "32092",
         null,
         null,
         "Web",
         "2025-06-20 00:00:00",
         "In progress",
         "Yes",
         null,
         "14195687"
        ],
        [
         "1",
         "2025-06-20 00:00:00",
         "Debt collection",
         "Telecommunications debt",
         "Attempts to collect debt not owed",
         "Debt is not yours",
         null,
         "Company can't verify or dispute the facts in the complaint",
         "Eastern Account Systems of Connecticut, Inc.",
         "FL",
         "342XX",
         null,
         null,
         "Web",
         "2025-06-20 00:00:00",
         "Closed with explanation",
         "Yes",
         null,
         "14195688"
        ],
        [
         "2",
         "2025-06-20 00:00:00",
         "Credit reporting or other personal consumer reports",
         "Credit reporting",
         "Improper use of your report",
         "Reporting company used your report improperly",
         null,
         null,
         "TRANSUNION INTERMEDIATE HOLDINGS, INC.",
         "AZ",
         "85225",
         null,
         null,
         "Web",
         "2025-06-20 00:00:00",
         "In progress",
         "Yes",
         null,
         "14195689"
        ],
        [
         "3",
         "2025-06-20 00:00:00",
         "Credit reporting or other personal consumer reports",
         "Credit reporting",
         "Improper use of your report",
         "Reporting company used your report improperly",
         null,
         null,
         "Experian Information Solutions Inc.",
         "AZ",
         "85225",
         null,
         null,
         "Web",
         "2025-06-20 00:00:00",
         "In progress",
         "Yes",
         null,
         "14195690"
        ],
        [
         "4",
         "2025-06-20 00:00:00",
         "Credit reporting or other personal consumer reports",
         "Credit reporting",
         "Incorrect information on your report",
         "Account status incorrect",
         null,
         null,
         "Experian Information Solutions Inc.",
         "IL",
         "60628",
         null,
         null,
         "Web",
         "2025-06-20 00:00:00",
         "In progress",
         "Yes",
         null,
         "14195692"
        ]
       ],
       "shape": {
        "columns": 18,
        "rows": 5
       }
      },
      "text/html": [
       "<div>\n",
       "<style scoped>\n",
       "    .dataframe tbody tr th:only-of-type {\n",
       "        vertical-align: middle;\n",
       "    }\n",
       "\n",
       "    .dataframe tbody tr th {\n",
       "        vertical-align: top;\n",
       "    }\n",
       "\n",
       "    .dataframe thead th {\n",
       "        text-align: right;\n",
       "    }\n",
       "</style>\n",
       "<table border=\"1\" class=\"dataframe\">\n",
       "  <thead>\n",
       "    <tr style=\"text-align: right;\">\n",
       "      <th></th>\n",
       "      <th>Date Received</th>\n",
       "      <th>Product</th>\n",
       "      <th>Sub-Product</th>\n",
       "      <th>Issue</th>\n",
       "      <th>Sub-Issue</th>\n",
       "      <th>Consumer Complaint Narrative</th>\n",
       "      <th>Company Public Response</th>\n",
       "      <th>Company</th>\n",
       "      <th>State</th>\n",
       "      <th>Zip Code</th>\n",
       "      <th>Tags</th>\n",
       "      <th>Consumer Consent Provided?</th>\n",
       "      <th>Submitted Via</th>\n",
       "      <th>Date Sent To Company</th>\n",
       "      <th>Company Response To Consumer</th>\n",
       "      <th>Timely Response?</th>\n",
       "      <th>Consumer Disputed?</th>\n",
       "      <th>Complaint Id</th>\n",
       "    </tr>\n",
       "  </thead>\n",
       "  <tbody>\n",
       "    <tr>\n",
       "      <th>0</th>\n",
       "      <td>2025-06-20</td>\n",
       "      <td>Credit reporting or other personal consumer re...</td>\n",
       "      <td>Credit reporting</td>\n",
       "      <td>Incorrect information on your report</td>\n",
       "      <td>Information belongs to someone else</td>\n",
       "      <td>NaN</td>\n",
       "      <td>NaN</td>\n",
       "      <td>Experian Information Solutions Inc.</td>\n",
       "      <td>FL</td>\n",
       "      <td>32092</td>\n",
       "      <td>NaN</td>\n",
       "      <td>NaN</td>\n",
       "      <td>Web</td>\n",
       "      <td>2025-06-20</td>\n",
       "      <td>In progress</td>\n",
       "      <td>Yes</td>\n",
       "      <td>NaN</td>\n",
       "      <td>14195687</td>\n",
       "    </tr>\n",
       "    <tr>\n",
       "      <th>1</th>\n",
       "      <td>2025-06-20</td>\n",
       "      <td>Debt collection</td>\n",
       "      <td>Telecommunications debt</td>\n",
       "      <td>Attempts to collect debt not owed</td>\n",
       "      <td>Debt is not yours</td>\n",
       "      <td>NaN</td>\n",
       "      <td>Company can't verify or dispute the facts in t...</td>\n",
       "      <td>Eastern Account Systems of Connecticut, Inc.</td>\n",
       "      <td>FL</td>\n",
       "      <td>342XX</td>\n",
       "      <td>NaN</td>\n",
       "      <td>NaN</td>\n",
       "      <td>Web</td>\n",
       "      <td>2025-06-20</td>\n",
       "      <td>Closed with explanation</td>\n",
       "      <td>Yes</td>\n",
       "      <td>NaN</td>\n",
       "      <td>14195688</td>\n",
       "    </tr>\n",
       "    <tr>\n",
       "      <th>2</th>\n",
       "      <td>2025-06-20</td>\n",
       "      <td>Credit reporting or other personal consumer re...</td>\n",
       "      <td>Credit reporting</td>\n",
       "      <td>Improper use of your report</td>\n",
       "      <td>Reporting company used your report improperly</td>\n",
       "      <td>NaN</td>\n",
       "      <td>NaN</td>\n",
       "      <td>TRANSUNION INTERMEDIATE HOLDINGS, INC.</td>\n",
       "      <td>AZ</td>\n",
       "      <td>85225</td>\n",
       "      <td>NaN</td>\n",
       "      <td>NaN</td>\n",
       "      <td>Web</td>\n",
       "      <td>2025-06-20</td>\n",
       "      <td>In progress</td>\n",
       "      <td>Yes</td>\n",
       "      <td>NaN</td>\n",
       "      <td>14195689</td>\n",
       "    </tr>\n",
       "    <tr>\n",
       "      <th>3</th>\n",
       "      <td>2025-06-20</td>\n",
       "      <td>Credit reporting or other personal consumer re...</td>\n",
       "      <td>Credit reporting</td>\n",
       "      <td>Improper use of your report</td>\n",
       "      <td>Reporting company used your report improperly</td>\n",
       "      <td>NaN</td>\n",
       "      <td>NaN</td>\n",
       "      <td>Experian Information Solutions Inc.</td>\n",
       "      <td>AZ</td>\n",
       "      <td>85225</td>\n",
       "      <td>NaN</td>\n",
       "      <td>NaN</td>\n",
       "      <td>Web</td>\n",
       "      <td>2025-06-20</td>\n",
       "      <td>In progress</td>\n",
       "      <td>Yes</td>\n",
       "      <td>NaN</td>\n",
       "      <td>14195690</td>\n",
       "    </tr>\n",
       "    <tr>\n",
       "      <th>4</th>\n",
       "      <td>2025-06-20</td>\n",
       "      <td>Credit reporting or other personal consumer re...</td>\n",
       "      <td>Credit reporting</td>\n",
       "      <td>Incorrect information on your report</td>\n",
       "      <td>Account status incorrect</td>\n",
       "      <td>NaN</td>\n",
       "      <td>NaN</td>\n",
       "      <td>Experian Information Solutions Inc.</td>\n",
       "      <td>IL</td>\n",
       "      <td>60628</td>\n",
       "      <td>NaN</td>\n",
       "      <td>NaN</td>\n",
       "      <td>Web</td>\n",
       "      <td>2025-06-20</td>\n",
       "      <td>In progress</td>\n",
       "      <td>Yes</td>\n",
       "      <td>NaN</td>\n",
       "      <td>14195692</td>\n",
       "    </tr>\n",
       "  </tbody>\n",
       "</table>\n",
       "</div>"
      ],
      "text/plain": [
       "  Date Received                                            Product  \\\n",
       "0    2025-06-20  Credit reporting or other personal consumer re...   \n",
       "1    2025-06-20                                    Debt collection   \n",
       "2    2025-06-20  Credit reporting or other personal consumer re...   \n",
       "3    2025-06-20  Credit reporting or other personal consumer re...   \n",
       "4    2025-06-20  Credit reporting or other personal consumer re...   \n",
       "\n",
       "               Sub-Product                                 Issue  \\\n",
       "0         Credit reporting  Incorrect information on your report   \n",
       "1  Telecommunications debt     Attempts to collect debt not owed   \n",
       "2         Credit reporting           Improper use of your report   \n",
       "3         Credit reporting           Improper use of your report   \n",
       "4         Credit reporting  Incorrect information on your report   \n",
       "\n",
       "                                       Sub-Issue Consumer Complaint Narrative  \\\n",
       "0            Information belongs to someone else                          NaN   \n",
       "1                              Debt is not yours                          NaN   \n",
       "2  Reporting company used your report improperly                          NaN   \n",
       "3  Reporting company used your report improperly                          NaN   \n",
       "4                       Account status incorrect                          NaN   \n",
       "\n",
       "                             Company Public Response  \\\n",
       "0                                                NaN   \n",
       "1  Company can't verify or dispute the facts in t...   \n",
       "2                                                NaN   \n",
       "3                                                NaN   \n",
       "4                                                NaN   \n",
       "\n",
       "                                        Company State Zip Code Tags  \\\n",
       "0           Experian Information Solutions Inc.    FL    32092  NaN   \n",
       "1  Eastern Account Systems of Connecticut, Inc.    FL    342XX  NaN   \n",
       "2        TRANSUNION INTERMEDIATE HOLDINGS, INC.    AZ    85225  NaN   \n",
       "3           Experian Information Solutions Inc.    AZ    85225  NaN   \n",
       "4           Experian Information Solutions Inc.    IL    60628  NaN   \n",
       "\n",
       "  Consumer Consent Provided? Submitted Via Date Sent To Company  \\\n",
       "0                        NaN           Web           2025-06-20   \n",
       "1                        NaN           Web           2025-06-20   \n",
       "2                        NaN           Web           2025-06-20   \n",
       "3                        NaN           Web           2025-06-20   \n",
       "4                        NaN           Web           2025-06-20   \n",
       "\n",
       "  Company Response To Consumer Timely Response? Consumer Disputed?  \\\n",
       "0                  In progress              Yes                NaN   \n",
       "1      Closed with explanation              Yes                NaN   \n",
       "2                  In progress              Yes                NaN   \n",
       "3                  In progress              Yes                NaN   \n",
       "4                  In progress              Yes                NaN   \n",
       "\n",
       "   Complaint Id  \n",
       "0      14195687  \n",
       "1      14195688  \n",
       "2      14195689  \n",
       "3      14195690  \n",
       "4      14195692  "
      ]
     },
     "metadata": {},
     "output_type": "display_data"
    },
    {
     "name": "stdout",
     "output_type": "stream",
     "text": [
      "\n",
      "🔹 DataFrame tail:\n"
     ]
    },
    {
     "data": {
      "application/vnd.microsoft.datawrangler.viewer.v0+json": {
       "columns": [
        {
         "name": "index",
         "rawType": "int64",
         "type": "integer"
        },
        {
         "name": "Date Received",
         "rawType": "datetime64[ns]",
         "type": "datetime"
        },
        {
         "name": "Product",
         "rawType": "object",
         "type": "string"
        },
        {
         "name": "Sub-Product",
         "rawType": "object",
         "type": "unknown"
        },
        {
         "name": "Issue",
         "rawType": "object",
         "type": "string"
        },
        {
         "name": "Sub-Issue",
         "rawType": "object",
         "type": "string"
        },
        {
         "name": "Consumer Complaint Narrative",
         "rawType": "object",
         "type": "unknown"
        },
        {
         "name": "Company Public Response",
         "rawType": "object",
         "type": "unknown"
        },
        {
         "name": "Company",
         "rawType": "object",
         "type": "string"
        },
        {
         "name": "State",
         "rawType": "object",
         "type": "string"
        },
        {
         "name": "Zip Code",
         "rawType": "object",
         "type": "string"
        },
        {
         "name": "Tags",
         "rawType": "object",
         "type": "unknown"
        },
        {
         "name": "Consumer Consent Provided?",
         "rawType": "object",
         "type": "unknown"
        },
        {
         "name": "Submitted Via",
         "rawType": "object",
         "type": "string"
        },
        {
         "name": "Date Sent To Company",
         "rawType": "datetime64[ns]",
         "type": "datetime"
        },
        {
         "name": "Company Response To Consumer",
         "rawType": "object",
         "type": "string"
        },
        {
         "name": "Timely Response?",
         "rawType": "object",
         "type": "string"
        },
        {
         "name": "Consumer Disputed?",
         "rawType": "object",
         "type": "unknown"
        },
        {
         "name": "Complaint Id",
         "rawType": "int64",
         "type": "integer"
        }
       ],
       "ref": "bcd905a4-8b42-41f5-9717-ea472d50894b",
       "rows": [
        [
         "9609792",
         "2016-09-08 00:00:00",
         "Credit reporting",
         null,
         "Unable to get credit report/credit score",
         "Problem getting my free annual report",
         null,
         null,
         "EQUIFAX, INC.",
         "FL",
         "32853",
         null,
         "Consent not provided",
         "Web",
         "2016-09-08 00:00:00",
         "Closed with explanation",
         "Yes",
         "Yes",
         "2102374"
        ],
        [
         "9609793",
         "2022-06-06 00:00:00",
         "Credit reporting, credit repair services, or other personal consumer reports",
         "Credit reporting",
         "Problem with a credit reporting company's investigation into an existing problem",
         "Their investigation did not fix an error on your report",
         null,
         null,
         "EQUIFAX, INC.",
         "CA",
         "93638",
         null,
         "Consent not provided",
         "Web",
         "2022-06-06 00:00:00",
         "Closed with explanation",
         "Yes",
         null,
         "5637858"
        ],
        [
         "9609794",
         "2016-07-14 00:00:00",
         "Credit reporting",
         null,
         "Unable to get credit report/credit score",
         "Problem getting report or credit score",
         null,
         null,
         "EQUIFAX, INC.",
         "NJ",
         "08620",
         "Older American, Servicemember",
         null,
         "Phone",
         "2016-07-14 00:00:00",
         "Closed with explanation",
         "Yes",
         "No",
         "2012835"
        ],
        [
         "9609795",
         "2014-03-03 00:00:00",
         "Credit reporting",
         null,
         "Improper use of my credit report",
         "Report improperly shared by CRC",
         null,
         null,
         "EQUIFAX, INC.",
         "NJ",
         "08759",
         null,
         null,
         "Web",
         "2014-03-04 00:00:00",
         "Closed with explanation",
         "Yes",
         "No",
         "740118"
        ],
        [
         "9609796",
         "2014-11-10 00:00:00",
         "Credit reporting",
         null,
         "Incorrect information on credit report",
         "Account status",
         null,
         null,
         "EQUIFAX, INC.",
         "CA",
         "95616",
         null,
         null,
         "Postal mail",
         "2014-11-25 00:00:00",
         "Closed with explanation",
         "Yes",
         "No",
         "1110751"
        ]
       ],
       "shape": {
        "columns": 18,
        "rows": 5
       }
      },
      "text/html": [
       "<div>\n",
       "<style scoped>\n",
       "    .dataframe tbody tr th:only-of-type {\n",
       "        vertical-align: middle;\n",
       "    }\n",
       "\n",
       "    .dataframe tbody tr th {\n",
       "        vertical-align: top;\n",
       "    }\n",
       "\n",
       "    .dataframe thead th {\n",
       "        text-align: right;\n",
       "    }\n",
       "</style>\n",
       "<table border=\"1\" class=\"dataframe\">\n",
       "  <thead>\n",
       "    <tr style=\"text-align: right;\">\n",
       "      <th></th>\n",
       "      <th>Date Received</th>\n",
       "      <th>Product</th>\n",
       "      <th>Sub-Product</th>\n",
       "      <th>Issue</th>\n",
       "      <th>Sub-Issue</th>\n",
       "      <th>Consumer Complaint Narrative</th>\n",
       "      <th>Company Public Response</th>\n",
       "      <th>Company</th>\n",
       "      <th>State</th>\n",
       "      <th>Zip Code</th>\n",
       "      <th>Tags</th>\n",
       "      <th>Consumer Consent Provided?</th>\n",
       "      <th>Submitted Via</th>\n",
       "      <th>Date Sent To Company</th>\n",
       "      <th>Company Response To Consumer</th>\n",
       "      <th>Timely Response?</th>\n",
       "      <th>Consumer Disputed?</th>\n",
       "      <th>Complaint Id</th>\n",
       "    </tr>\n",
       "  </thead>\n",
       "  <tbody>\n",
       "    <tr>\n",
       "      <th>9609792</th>\n",
       "      <td>2016-09-08</td>\n",
       "      <td>Credit reporting</td>\n",
       "      <td>NaN</td>\n",
       "      <td>Unable to get credit report/credit score</td>\n",
       "      <td>Problem getting my free annual report</td>\n",
       "      <td>NaN</td>\n",
       "      <td>NaN</td>\n",
       "      <td>EQUIFAX, INC.</td>\n",
       "      <td>FL</td>\n",
       "      <td>32853</td>\n",
       "      <td>NaN</td>\n",
       "      <td>Consent not provided</td>\n",
       "      <td>Web</td>\n",
       "      <td>2016-09-08</td>\n",
       "      <td>Closed with explanation</td>\n",
       "      <td>Yes</td>\n",
       "      <td>Yes</td>\n",
       "      <td>2102374</td>\n",
       "    </tr>\n",
       "    <tr>\n",
       "      <th>9609793</th>\n",
       "      <td>2022-06-06</td>\n",
       "      <td>Credit reporting, credit repair services, or o...</td>\n",
       "      <td>Credit reporting</td>\n",
       "      <td>Problem with a credit reporting company's inve...</td>\n",
       "      <td>Their investigation did not fix an error on yo...</td>\n",
       "      <td>NaN</td>\n",
       "      <td>NaN</td>\n",
       "      <td>EQUIFAX, INC.</td>\n",
       "      <td>CA</td>\n",
       "      <td>93638</td>\n",
       "      <td>NaN</td>\n",
       "      <td>Consent not provided</td>\n",
       "      <td>Web</td>\n",
       "      <td>2022-06-06</td>\n",
       "      <td>Closed with explanation</td>\n",
       "      <td>Yes</td>\n",
       "      <td>NaN</td>\n",
       "      <td>5637858</td>\n",
       "    </tr>\n",
       "    <tr>\n",
       "      <th>9609794</th>\n",
       "      <td>2016-07-14</td>\n",
       "      <td>Credit reporting</td>\n",
       "      <td>NaN</td>\n",
       "      <td>Unable to get credit report/credit score</td>\n",
       "      <td>Problem getting report or credit score</td>\n",
       "      <td>NaN</td>\n",
       "      <td>NaN</td>\n",
       "      <td>EQUIFAX, INC.</td>\n",
       "      <td>NJ</td>\n",
       "      <td>08620</td>\n",
       "      <td>Older American, Servicemember</td>\n",
       "      <td>NaN</td>\n",
       "      <td>Phone</td>\n",
       "      <td>2016-07-14</td>\n",
       "      <td>Closed with explanation</td>\n",
       "      <td>Yes</td>\n",
       "      <td>No</td>\n",
       "      <td>2012835</td>\n",
       "    </tr>\n",
       "    <tr>\n",
       "      <th>9609795</th>\n",
       "      <td>2014-03-03</td>\n",
       "      <td>Credit reporting</td>\n",
       "      <td>NaN</td>\n",
       "      <td>Improper use of my credit report</td>\n",
       "      <td>Report improperly shared by CRC</td>\n",
       "      <td>NaN</td>\n",
       "      <td>NaN</td>\n",
       "      <td>EQUIFAX, INC.</td>\n",
       "      <td>NJ</td>\n",
       "      <td>08759</td>\n",
       "      <td>NaN</td>\n",
       "      <td>NaN</td>\n",
       "      <td>Web</td>\n",
       "      <td>2014-03-04</td>\n",
       "      <td>Closed with explanation</td>\n",
       "      <td>Yes</td>\n",
       "      <td>No</td>\n",
       "      <td>740118</td>\n",
       "    </tr>\n",
       "    <tr>\n",
       "      <th>9609796</th>\n",
       "      <td>2014-11-10</td>\n",
       "      <td>Credit reporting</td>\n",
       "      <td>NaN</td>\n",
       "      <td>Incorrect information on credit report</td>\n",
       "      <td>Account status</td>\n",
       "      <td>NaN</td>\n",
       "      <td>NaN</td>\n",
       "      <td>EQUIFAX, INC.</td>\n",
       "      <td>CA</td>\n",
       "      <td>95616</td>\n",
       "      <td>NaN</td>\n",
       "      <td>NaN</td>\n",
       "      <td>Postal mail</td>\n",
       "      <td>2014-11-25</td>\n",
       "      <td>Closed with explanation</td>\n",
       "      <td>Yes</td>\n",
       "      <td>No</td>\n",
       "      <td>1110751</td>\n",
       "    </tr>\n",
       "  </tbody>\n",
       "</table>\n",
       "</div>"
      ],
      "text/plain": [
       "        Date Received                                            Product  \\\n",
       "9609792    2016-09-08                                   Credit reporting   \n",
       "9609793    2022-06-06  Credit reporting, credit repair services, or o...   \n",
       "9609794    2016-07-14                                   Credit reporting   \n",
       "9609795    2014-03-03                                   Credit reporting   \n",
       "9609796    2014-11-10                                   Credit reporting   \n",
       "\n",
       "              Sub-Product                                              Issue  \\\n",
       "9609792               NaN           Unable to get credit report/credit score   \n",
       "9609793  Credit reporting  Problem with a credit reporting company's inve...   \n",
       "9609794               NaN           Unable to get credit report/credit score   \n",
       "9609795               NaN                   Improper use of my credit report   \n",
       "9609796               NaN             Incorrect information on credit report   \n",
       "\n",
       "                                                 Sub-Issue  \\\n",
       "9609792              Problem getting my free annual report   \n",
       "9609793  Their investigation did not fix an error on yo...   \n",
       "9609794             Problem getting report or credit score   \n",
       "9609795                    Report improperly shared by CRC   \n",
       "9609796                                     Account status   \n",
       "\n",
       "        Consumer Complaint Narrative Company Public Response        Company  \\\n",
       "9609792                          NaN                     NaN  EQUIFAX, INC.   \n",
       "9609793                          NaN                     NaN  EQUIFAX, INC.   \n",
       "9609794                          NaN                     NaN  EQUIFAX, INC.   \n",
       "9609795                          NaN                     NaN  EQUIFAX, INC.   \n",
       "9609796                          NaN                     NaN  EQUIFAX, INC.   \n",
       "\n",
       "        State Zip Code                           Tags  \\\n",
       "9609792    FL    32853                            NaN   \n",
       "9609793    CA    93638                            NaN   \n",
       "9609794    NJ    08620  Older American, Servicemember   \n",
       "9609795    NJ    08759                            NaN   \n",
       "9609796    CA    95616                            NaN   \n",
       "\n",
       "        Consumer Consent Provided? Submitted Via Date Sent To Company  \\\n",
       "9609792       Consent not provided           Web           2016-09-08   \n",
       "9609793       Consent not provided           Web           2022-06-06   \n",
       "9609794                        NaN         Phone           2016-07-14   \n",
       "9609795                        NaN           Web           2014-03-04   \n",
       "9609796                        NaN   Postal mail           2014-11-25   \n",
       "\n",
       "        Company Response To Consumer Timely Response? Consumer Disputed?  \\\n",
       "9609792      Closed with explanation              Yes                Yes   \n",
       "9609793      Closed with explanation              Yes                NaN   \n",
       "9609794      Closed with explanation              Yes                 No   \n",
       "9609795      Closed with explanation              Yes                 No   \n",
       "9609796      Closed with explanation              Yes                 No   \n",
       "\n",
       "         Complaint Id  \n",
       "9609792       2102374  \n",
       "9609793       5637858  \n",
       "9609794       2012835  \n",
       "9609795        740118  \n",
       "9609796       1110751  "
      ]
     },
     "metadata": {},
     "output_type": "display_data"
    },
    {
     "name": "stdout",
     "output_type": "stream",
     "text": [
      "\n",
      "🔹 DataFrame shape:\n"
     ]
    },
    {
     "data": {
      "text/plain": [
       "(9609797, 18)"
      ]
     },
     "metadata": {},
     "output_type": "display_data"
    },
    {
     "name": "stdout",
     "output_type": "stream",
     "text": [
      "\n",
      "🔹 DataFrame columns:\n"
     ]
    },
    {
     "data": {
      "text/plain": [
       "Index(['Date Received', 'Product', 'Sub-Product', 'Issue', 'Sub-Issue',\n",
       "       'Consumer Complaint Narrative', 'Company Public Response', 'Company',\n",
       "       'State', 'Zip Code', 'Tags', 'Consumer Consent Provided?',\n",
       "       'Submitted Via', 'Date Sent To Company', 'Company Response To Consumer',\n",
       "       'Timely Response?', 'Consumer Disputed?', 'Complaint Id'],\n",
       "      dtype='object')"
      ]
     },
     "metadata": {},
     "output_type": "display_data"
    },
    {
     "name": "stdout",
     "output_type": "stream",
     "text": [
      "\n",
      "🔹 DataFrame summary:\n",
      "<class 'pandas.core.frame.DataFrame'>\n",
      "RangeIndex: 9609797 entries, 0 to 9609796\n",
      "Data columns (total 18 columns):\n",
      " #   Column                        Dtype         \n",
      "---  ------                        -----         \n",
      " 0   Date Received                 datetime64[ns]\n",
      " 1   Product                       object        \n",
      " 2   Sub-Product                   object        \n",
      " 3   Issue                         object        \n",
      " 4   Sub-Issue                     object        \n",
      " 5   Consumer Complaint Narrative  object        \n",
      " 6   Company Public Response       object        \n",
      " 7   Company                       object        \n",
      " 8   State                         object        \n",
      " 9   Zip Code                      object        \n",
      " 10  Tags                          object        \n",
      " 11  Consumer Consent Provided?    object        \n",
      " 12  Submitted Via                 object        \n",
      " 13  Date Sent To Company          datetime64[ns]\n",
      " 14  Company Response To Consumer  object        \n",
      " 15  Timely Response?              object        \n",
      " 16  Consumer Disputed?            object        \n",
      " 17  Complaint Id                  int64         \n",
      "dtypes: datetime64[ns](2), int64(1), object(15)\n",
      "memory usage: 1.3+ GB\n"
     ]
    }
   ],
   "source": [
    "# Initalise class\n",
    "# Load data\n",
    "eda = EDA(df_path, plot_dir, processed_dir)"
   ]
  },
  {
   "cell_type": "code",
   "execution_count": 5,
   "id": "b8549d3f",
   "metadata": {},
   "outputs": [
    {
     "name": "stdout",
     "output_type": "stream",
     "text": [
      "🧮 Complaint count by product:\n"
     ]
    },
    {
     "data": {
      "application/vnd.microsoft.datawrangler.viewer.v0+json": {
       "columns": [
        {
         "name": "Product",
         "rawType": "object",
         "type": "string"
        },
        {
         "name": "count",
         "rawType": "int64",
         "type": "integer"
        }
       ],
       "ref": "c6ae911e-fb42-4ec3-85a3-0f3d409df187",
       "rows": [
        [
         "Credit reporting or other personal consumer reports",
         "4834855"
        ],
        [
         "Credit reporting, credit repair services, or other personal consumer reports",
         "2163857"
        ],
        [
         "Debt collection",
         "799197"
        ],
        [
         "Mortgage",
         "422254"
        ],
        [
         "Checking or savings account",
         "291178"
        ],
        [
         "Credit card",
         "226686"
        ],
        [
         "Credit card or prepaid card",
         "206369"
        ],
        [
         "Money transfer, virtual currency, or money service",
         "145066"
        ],
        [
         "Credit reporting",
         "140429"
        ],
        [
         "Student loan",
         "109717"
        ],
        [
         "Bank account or service",
         "86205"
        ],
        [
         "Vehicle loan or lease",
         "72957"
        ],
        [
         "Consumer Loan",
         "31574"
        ],
        [
         "Payday loan, title loan, or personal loan",
         "30641"
        ],
        [
         "Payday loan, title loan, personal loan, or advance loan",
         "16514"
        ],
        [
         "Prepaid card",
         "15280"
        ],
        [
         "Payday loan",
         "5541"
        ],
        [
         "Money transfers",
         "5354"
        ],
        [
         "Debt or credit management",
         "5047"
        ],
        [
         "Other financial service",
         "1058"
        ],
        [
         "Virtual currency",
         "18"
        ]
       ],
       "shape": {
        "columns": 1,
        "rows": 21
       }
      },
      "text/plain": [
       "Product\n",
       "Credit reporting or other personal consumer reports                             4834855\n",
       "Credit reporting, credit repair services, or other personal consumer reports    2163857\n",
       "Debt collection                                                                  799197\n",
       "Mortgage                                                                         422254\n",
       "Checking or savings account                                                      291178\n",
       "Credit card                                                                      226686\n",
       "Credit card or prepaid card                                                      206369\n",
       "Money transfer, virtual currency, or money service                               145066\n",
       "Credit reporting                                                                 140429\n",
       "Student loan                                                                     109717\n",
       "Bank account or service                                                           86205\n",
       "Vehicle loan or lease                                                             72957\n",
       "Consumer Loan                                                                     31574\n",
       "Payday loan, title loan, or personal loan                                         30641\n",
       "Payday loan, title loan, personal loan, or advance loan                           16514\n",
       "Prepaid card                                                                      15280\n",
       "Payday loan                                                                        5541\n",
       "Money transfers                                                                    5354\n",
       "Debt or credit management                                                          5047\n",
       "Other financial service                                                            1058\n",
       "Virtual currency                                                                     18\n",
       "Name: count, dtype: int64"
      ]
     },
     "metadata": {},
     "output_type": "display_data"
    },
    {
     "name": "stdout",
     "output_type": "stream",
     "text": [
      "\n",
      "💾 Plot saved to ..\\plots\\01_eda\\Distribution of Complaints by Product.png\n"
     ]
    },
    {
     "data": {
      "image/png": "[encoded data removed]",
      "text/plain": [
       "<Figure size 1000x600 with 1 Axes>"
      ]
     },
     "metadata": {},
     "output_type": "display_data"
    },
    {
     "name": "stdout",
     "output_type": "stream",
     "text": [
      "\n",
      "💾 Plot saved to ..\\plots\\01_eda\\Distribution of Complaint Lengths.png\n"
     ]
    },
    {
     "data": {
      "image/png": "[encoded data removed]",
      "text/plain": [
       "<Figure size 1000x600 with 1 Axes>"
      ]
     },
     "metadata": {},
     "output_type": "display_data"
    },
    {
     "name": "stdout",
     "output_type": "stream",
     "text": [
      "Total complaints: 9609797\n",
      "Complaints with narratives: 2980756\n",
      "Complaints without narratives: 6629041\n",
      "\n",
      "💾 Plot saved to ..\\plots\\01_eda\\Distribution of Complaints With vs Without Narratives.png\n"
     ]
    },
    {
     "data": {
      "image/png": "[encoded data removed]",
      "text/plain": [
       "<Figure size 600x400 with 1 Axes>"
      ]
     },
     "metadata": {},
     "output_type": "display_data"
    }
   ],
   "source": [
    "# Visualise complaints\n",
    "eda.visualise_complaint()\n",
    "\n",
    "# Visualise complaint length\n",
    "eda.visualise_complaint_length()\n",
    "\n",
    "# Complaints with and without narrative\n",
    "eda.complaints_narrative()"
   ]
  },
  {
   "cell_type": "code",
   "execution_count": 6,
   "id": "006a40f4",
   "metadata": {},
   "outputs": [
    {
     "name": "stdout",
     "output_type": "stream",
     "text": [
      "🫧 DataFrame is filtered.\n",
      "\n",
      "🚮 Rows with missing \"Consumer Complaint Narrative\" have been dropped.\n",
      "🔹 Rows remaining: 456510\n",
      "\n",
      "🔹 Columns with with missing values are filled with \"Unknown\": ['Sub-Product', 'Sub-Issue', 'Company Public Response', 'State', 'Tags', 'Consumer Disputed?']\n"
     ]
    }
   ],
   "source": [
    "# Filter DataFrame\n",
    "eda.filter_products()\n",
    "\n",
    "# Handle Missing values\n",
    "eda.missing_values()"
   ]
  },
  {
   "cell_type": "code",
   "execution_count": 7,
   "id": "180abc17",
   "metadata": {},
   "outputs": [
    {
     "name": "stdout",
     "output_type": "stream",
     "text": [
      "\n",
      "✅ Normalisation complete.\n"
     ]
    }
   ],
   "source": [
    "# Normalise text\n",
    "eda.normalise_text()"
   ]
  },
  {
   "cell_type": "code",
   "execution_count": 8,
   "id": "ed93d0ea",
   "metadata": {},
   "outputs": [
    {
     "name": "stdout",
     "output_type": "stream",
     "text": [
      "\n",
      "💾 Processed DataFrame saved to: ..\\data\\processed\\filtered_complaints.csv\n",
      "\n",
      "🔹 DataFrame Head:\n"
     ]
    },
    {
     "data": {
      "application/vnd.microsoft.datawrangler.viewer.v0+json": {
       "columns": [
        {
         "name": "index",
         "rawType": "int64",
         "type": "integer"
        },
        {
         "name": "Clean Narrative",
         "rawType": "object",
         "type": "string"
        },
        {
         "name": "Company",
         "rawType": "object",
         "type": "string"
        },
        {
         "name": "Company Public Response",
         "rawType": "object",
         "type": "string"
        },
        {
         "name": "Company Response To Consumer",
         "rawType": "object",
         "type": "string"
        },
        {
         "name": "Complaint Id",
         "rawType": "int64",
         "type": "integer"
        },
        {
         "name": "Complaint Length",
         "rawType": "float64",
         "type": "float"
        },
        {
         "name": "Consumer Complaint Narrative",
         "rawType": "object",
         "type": "string"
        },
        {
         "name": "Consumer Consent Provided?",
         "rawType": "object",
         "type": "string"
        },
        {
         "name": "Consumer Disputed?",
         "rawType": "object",
         "type": "string"
        },
        {
         "name": "Date Received",
         "rawType": "datetime64[ns]",
         "type": "datetime"
        },
        {
         "name": "Date Sent To Company",
         "rawType": "datetime64[ns]",
         "type": "datetime"
        },
        {
         "name": "Issue",
         "rawType": "object",
         "type": "string"
        },
        {
         "name": "Product",
         "rawType": "object",
         "type": "string"
        },
        {
         "name": "State",
         "rawType": "object",
         "type": "string"
        },
        {
         "name": "Sub-Issue",
         "rawType": "object",
         "type": "string"
        },
        {
         "name": "Sub-Product",
         "rawType": "object",
         "type": "string"
        },
        {
         "name": "Submitted Via",
         "rawType": "object",
         "type": "string"
        },
        {
         "name": "Tags",
         "rawType": "object",
         "type": "string"
        },
        {
         "name": "Timely Response?",
         "rawType": "object",
         "type": "string"
        },
        {
         "name": "Zip Code",
         "rawType": "object",
         "type": "string"
        }
       ],
       "ref": "89a40de2-4b63-4743-9ce6-424f5233257a",
       "rows": [
        [
         "0",
         "a xxxx xxxx card was opened under my name by a fraudster. i received a notice from xxxx that an account was just opened under my name. i reached out to xxxx xxxx to state that this activity was unauthorized and not me. xxxx xxxx confirmed this was fraudulent and immediately closed the card. however, they have failed to remove this from the three credit agencies and this fraud is now impacting my credit score based on a hard credit pull done by xxxx xxxx that was done by a fraudster.",
         "CITIBANK, N.A.",
         "Company has responded to the consumer and the CFPB and chooses not to provide a public response",
         "Closed with non-monetary relief",
         "14069121",
         "488.0",
         "A XXXX XXXX card was opened under my name by a fraudster. I received a notice from XXXX  that an account was just opened under my name. I reached out to XXXX XXXX to state that this activity was unauthorized and not me. XXXX XXXX confirmed this was fraudulent and immediately closed the card. However, they have failed to remove this from the three credit agencies and this fraud is now impacting my credit score based on a hard credit pull done by XXXX XXXX that was done by a fraudster.",
         "Consent provided",
         "Unknown",
         "2025-06-13 00:00:00",
         "2025-06-13 00:00:00",
         "Getting a credit card",
         "Credit card",
         "TX",
         "Card opened without my consent or knowledge",
         "Store credit card",
         "Web",
         "Servicemember",
         "Yes",
         "78230"
        ],
        [
         "1",
         "i made the mistake of using my wellsfargo debit card to depsit funds into xxxxxxxx atm machine outside their branch. i went into the branch and was told they could not help and had to phone the customer service for help. i did this and was told i was helped gave all the info for the time terminal id aact # s, xxxx was able to find the transaction and give me this info, he said the dispute would take a few days. i waited a few days and got a letter stating my dispute was rejected. i went back into xxxx and they said they never got the transaction.",
         "WELLS FARGO & COMPANY",
         "Company has responded to the consumer and the CFPB and chooses not to provide a public response",
         "Closed with explanation",
         "14061897",
         "555.0",
         "I made the mistake of using my wellsfargo debit card to depsit funds Into XXXXXXXX ATM machine outside their branch. \n\nI went into the branch and was told they couldn't help and had to phone the customer service for help. I did this and was told I was helped gave all the info for the time terminal id aact # s, XXXX was able to find the transaction and give me this info, he said the dispute would take a few days. \n\nI waited a few days and got a letter stating my dispute was rejected. I went back into XXXX and they said they never got the transaction.",
         "Consent provided",
         "Unknown",
         "2025-06-13 00:00:00",
         "2025-06-13 00:00:00",
         "Managing an account",
         "Checking or savings account",
         "ID",
         "Deposits and withdrawals",
         "Checking account",
         "Web",
         "Unknown",
         "Yes",
         "83815"
        ],
        [
         "2",
         "i have a secured credit card with citibank which is changed to unsecured card and i have been calling n waitting for the check release the secured amount {$xxxx.00} for rhat credit card. they told me to wait then today they told me someone cashed my check but their system does not have info as of who, where and when did it happen!! i requested a case number but they will not send me any confirmation whatsoever to report to the police. they told me i have to wait for some form that might be sent to me via mail within 14 days to fill out. i called customer service second time today and their manager told me same thing, no info no help at all! please help me, it is a big bank but the service is so terrible and lil customer like me can do nothing! thank so much and look forward for your reply!",
         "CITIBANK, N.A.",
         "Company has responded to the consumer and the CFPB and chooses not to provide a public response",
         "Closed with monetary relief",
         "14047085",
         "806.0",
         "Dear CFPB, I have a secured credit card with citibank which is changed to unsecured card and I have been calling n waitting for the check release the secured amount {$2500.00} for rhat credit card. They told me to wait then today they told me someone cashed my check but their system doesnt have info as of who, where and when did it happen!!\n\nI requested a case number but they wont send me any confirmation whatsoever to report to the police.\n\nThey told me I have to wait for some form that might be sent to me via mail within 14 days to fill out. I called customer service second time today and their manager told me same thing, no info no help at all! Please help me, it's a big bank but the service is so terrible and lil customer like me can do nothing! Thank so much and look forward for your reply!",
         "Consent provided",
         "Unknown",
         "2025-06-12 00:00:00",
         "2025-06-13 00:00:00",
         "Other features, terms, or problems",
         "Credit card",
         "NY",
         "Other problem",
         "General-purpose credit card or charge card",
         "Web",
         "Unknown",
         "Yes",
         "11220"
        ],
        [
         "3",
         "i have a citi rewards cards. the credit balance issued to me was {$xxxx.00}. i recently moved, which meant my bills would be lowered, which meant i would have less use for my credit cards. so in order to keep my usage in a generally good area i used each of my cards with the intention to pay them down monthly which would result in a boost to my credit score, showing creditors i can pay doen. all of my cards are in good standing. my credit is in good standing. but on the xxxx xxxx xxxx citi abruptly slashes the balance of my card from {$xxxx.00} down to {$xxxx.00} and sends me a message that i have just about reached my credit limit. i contacted them and all they said was consult a letter they emailed on the xxxx. the slashing action was taken the day of the letter ( xxxx ) and i had no recourse to respond nor was i even aware of this action prior to the notification about reaching my limit, which i received on or about the xxxx of xxxx. this is an egregious act that not only blindsided me but manipulates my account to make it appear that i am close to reaching the limit, when in fact i was no where near the limit. this could negatively impact my credit score through no fault of my own.",
         "CITIBANK, N.A.",
         "Company has responded to the consumer and the CFPB and chooses not to provide a public response",
         "Closed with explanation",
         "14040217",
         "1199.0",
         "I have a Citi rewards cards. The credit balance issued to me was {$8400.00}. I recently moved, which meant my bills would be lowered, which meant I'd have LESS use for my credit cards. So in order to keep my usage in a generally good area I used each of my cards with the intention to pay them down monthly which would result in a boost to my credit score, showing creditors I can pay doen. All of my cards are in good standing. My credit is in good standing. But on the XXXX XXXX XXXX Citi abruptly slashes the balance of my card from {$8400.00} down to {$5400.00} and sends me a message that I have just about reached my credit limit. I contacted them and all they said was consult a letter they emailed on the XXXX. The slashing action was taken the day OF the letter ( XXXX ) and I had no recourse to respond nor was I even aware of this action prior to the notification about reaching my limit, which I received on or about the XXXX of XXXX. This is an egregious act that not only blindsided me but manipulates my account to make it APPEAR that I'm close to reaching the limit, when in fact I was no where near the limit. This could negatively impact my credit score through no fault of my own.",
         "Consent provided",
         "Unknown",
         "2025-06-12 00:00:00",
         "2025-06-12 00:00:00",
         "Incorrect information on your report",
         "Credit card",
         "IL",
         "Account information incorrect",
         "General-purpose credit card or charge card",
         "Web",
         "Unknown",
         "Yes",
         "60067"
        ],
        [
         "4",
         "b'i am writing to dispute the following charges on my citi credit card accounts where i have become a victim of identity theft when someone made a purchase without my authorization, i have not made any purchases and have no knowledge of them, i strongly believe the unauthorized transaction are the result of identity theft. an attachment fromxx/xx/xxxxshowing a new address for me is also fraudulent, i do not have or lived in murfreesboro, tn xx/xx/xxxx, that is when i became aware of the fraudulent charges. i then started the communications with citi, xx/xx/xxxxabout the unauthorized fraudulent charge, i also included statements, credit score negative points due to inaccurate charges. after several attempts to clear this matter, it has become apparent that i am being ignored by citi. i am not sure how to proceed to try and get the right help to clear this matter. i am hoping i have reached the correct citi group to clear this matter.\\n\\naccount opened: xx/xx/xxxxcredit card number:xx/xx/xxxxn1.\\tcharge #1 of xx/xx/xxxx charge amount was disputed and citi closed account and mailed a 2nd different account.\\nnew citi credit card replacement: xx/xx/xxxxn xx/xx/xxxxtcharge #2 interest charge and previously monthly payment total: xx/xx/xxxx dollars. charge amount was disputed and citi closed account and mailed a 3rd different account.\\nnew citi credit card replacemenxx/xx/xxxx\\tcharge #3 interest charge including previously monthly payment total xx/xx/xxxx\\ni have made three (3) phone call attempts to phone numberxx/xx/xxxx between march 4, xxxx thrxx/xx/xxxx to citi to resolve the unauthorized charges with citi to no avail. in return citi has closed the original credit card with the credit card numbers as listed above but has kept transferring the unauthorized charges of the original credit card that was opened on xx/xx/xxxxo the new credit card accounts. citi needs to remove all charges and credit my account showing a zero balance, i did not make any purchases whatsoever and i should not be responsible for any payments. citi has turned in a late payment exceeding 30 days to the credit bureau and it has cost me a negative ofxx/xx/xxxx points. i have lost all faith in communicating with citi by telephone to resolve this issue that is extremely frustrating. i need help to clear this matter.\\n\\ni am requesting that you immediately remove these charges from my account and credit my account for the total amount ofxx/xx/xxxxdollars. i also request that you investigate these unauthorized transaction and take steps to prevent future fraudulent charges to my account.\\n\\ni have attached copies of my credit card statement and other documents that support my claim.\\n\\nplease send me written confirmation that you have removed the fraudulent charges and credited my account, and also that you have investigated the matter.\\n\\nthank you for your prompt attention to this matter.'",
         "CITIBANK, N.A.",
         "Company has responded to the consumer and the CFPB and chooses not to provide a public response",
         "Closed with monetary relief",
         "13968411",
         "2908.0",
         "b'I am writing to dispute the following charges on my CITI Credit Card Accounts where I have become a victim of identity theft when someone made a purchase without my authorization, I have not made any purchases and have no knowledge of them, I strongly believe the unauthorized transaction are the result of identity theft. An attachment fromXX/XX/XXXXshowing a new address for me is also fraudulent, I do not have or lived in Murfreesboro, TN  XX/XX/XXXX, thats when I became aware of the fraudulent charges. I then started the communications with CITI, XX/XX/XXXXabout the unauthorized fraudulent charge, I also included statements, credit score negative points due to inaccurate charges. After several attempts to clear this matter, it has become apparent that I am being ignored by CITI. I am not sure how to proceed to try and get the right help to clear this matter. I am hoping I have reached the correct CITI group to clear this matter.\\n\\nAccount Opened: XX/XX/XXXXcredit card number:XX/XX/XXXXn1.\\tCharge #1 of XX/XX/XXXX Charge amount was disputed and CITI closed account and mailed a 2nd different account.\\nNew CITI credit card replacement: XX/XX/XXXXn XX/XX/XXXXtCharge #2 interest charge and previously monthly payment total: XX/XX/XXXX dollars. Charge amount was disputed and CITI closed account and mailed a 3rd  different account.\\nNew CITI credit card replacemenXX/XX/XXXX\\tCharge #3 interest charge including previously monthly payment total XX/XX/XXXX\\nI have made three (3) phone call attempts to phone numberXX/XX/XXXX between March 4, 2025 thrXX/XX/XXXX to CITI to resolve the unauthorized charges with CITI to no avail. In return CITI has closed the original credit card with the credit card numbers as listed above but has kept transferring the unauthorized charges of the original credit card that was opened on XX/XX/XXXXo the new credit card accounts. CITI needs to remove all charges and credit my account showing a zero balance, I did not make any purchases whatsoever and I should not be responsible for any payments. CITI has turned in a late payment exceeding 30 days to the credit bureau and it has cost me a negative ofXX/XX/XXXX points. I have lost all faith in communicating with CITI by telephone to resolve this issue that is extremely frustrating. I need help to clear this matter.\\n\\nI am requesting that you immediately remove these charges from my account and credit my account for the total amount ofXX/XX/XXXXdollars. I also request that you investigate these unauthorized transaction and take steps to prevent future fraudulent charges to my account.\\n\\nI have attached copies of my credit card statement and other documents that support my claim.\\n\\nPlease send me written confirmation that you have removed the fraudulent charges and credited my account, and also that you have investigated the matter.\\n\\nThank you for your prompt attention to this matter.'",
         "Consent provided",
         "Unknown",
         "2025-06-09 00:00:00",
         "2025-06-09 00:00:00",
         "Problem with a purchase shown on your statement",
         "Credit card",
         "TX",
         "Credit card company isn't resolving a dispute about a purchase on your statement",
         "General-purpose credit card or charge card",
         "Web",
         "Older American",
         "Yes",
         "78413"
        ]
       ],
       "shape": {
        "columns": 20,
        "rows": 5
       }
      },
      "text/html": [
       "<div>\n",
       "<style scoped>\n",
       "    .dataframe tbody tr th:only-of-type {\n",
       "        vertical-align: middle;\n",
       "    }\n",
       "\n",
       "    .dataframe tbody tr th {\n",
       "        vertical-align: top;\n",
       "    }\n",
       "\n",
       "    .dataframe thead th {\n",
       "        text-align: right;\n",
       "    }\n",
       "</style>\n",
       "<table border=\"1\" class=\"dataframe\">\n",
       "  <thead>\n",
       "    <tr style=\"text-align: right;\">\n",
       "      <th></th>\n",
       "      <th>Clean Narrative</th>\n",
       "      <th>Company</th>\n",
       "      <th>Company Public Response</th>\n",
       "      <th>Company Response To Consumer</th>\n",
       "      <th>Complaint Id</th>\n",
       "      <th>Complaint Length</th>\n",
       "      <th>Consumer Complaint Narrative</th>\n",
       "      <th>Consumer Consent Provided?</th>\n",
       "      <th>Consumer Disputed?</th>\n",
       "      <th>Date Received</th>\n",
       "      <th>Date Sent To Company</th>\n",
       "      <th>Issue</th>\n",
       "      <th>Product</th>\n",
       "      <th>State</th>\n",
       "      <th>Sub-Issue</th>\n",
       "      <th>Sub-Product</th>\n",
       "      <th>Submitted Via</th>\n",
       "      <th>Tags</th>\n",
       "      <th>Timely Response?</th>\n",
       "      <th>Zip Code</th>\n",
       "    </tr>\n",
       "  </thead>\n",
       "  <tbody>\n",
       "    <tr>\n",
       "      <th>0</th>\n",
       "      <td>a xxxx xxxx card was opened under my name by a...</td>\n",
       "      <td>CITIBANK, N.A.</td>\n",
       "      <td>Company has responded to the consumer and the ...</td>\n",
       "      <td>Closed with non-monetary relief</td>\n",
       "      <td>14069121</td>\n",
       "      <td>488.0</td>\n",
       "      <td>A XXXX XXXX card was opened under my name by a...</td>\n",
       "      <td>Consent provided</td>\n",
       "      <td>Unknown</td>\n",
       "      <td>2025-06-13</td>\n",
       "      <td>2025-06-13</td>\n",
       "      <td>Getting a credit card</td>\n",
       "      <td>Credit card</td>\n",
       "      <td>TX</td>\n",
       "      <td>Card opened without my consent or knowledge</td>\n",
       "      <td>Store credit card</td>\n",
       "      <td>Web</td>\n",
       "      <td>Servicemember</td>\n",
       "      <td>Yes</td>\n",
       "      <td>78230</td>\n",
       "    </tr>\n",
       "    <tr>\n",
       "      <th>1</th>\n",
       "      <td>i made the mistake of using my wellsfargo debi...</td>\n",
       "      <td>WELLS FARGO &amp; COMPANY</td>\n",
       "      <td>Company has responded to the consumer and the ...</td>\n",
       "      <td>Closed with explanation</td>\n",
       "      <td>14061897</td>\n",
       "      <td>555.0</td>\n",
       "      <td>I made the mistake of using my wellsfargo debi...</td>\n",
       "      <td>Consent provided</td>\n",
       "      <td>Unknown</td>\n",
       "      <td>2025-06-13</td>\n",
       "      <td>2025-06-13</td>\n",
       "      <td>Managing an account</td>\n",
       "      <td>Checking or savings account</td>\n",
       "      <td>ID</td>\n",
       "      <td>Deposits and withdrawals</td>\n",
       "      <td>Checking account</td>\n",
       "      <td>Web</td>\n",
       "      <td>Unknown</td>\n",
       "      <td>Yes</td>\n",
       "      <td>83815</td>\n",
       "    </tr>\n",
       "    <tr>\n",
       "      <th>2</th>\n",
       "      <td>i have a secured credit card with citibank whi...</td>\n",
       "      <td>CITIBANK, N.A.</td>\n",
       "      <td>Company has responded to the consumer and the ...</td>\n",
       "      <td>Closed with monetary relief</td>\n",
       "      <td>14047085</td>\n",
       "      <td>806.0</td>\n",
       "      <td>Dear CFPB, I have a secured credit card with c...</td>\n",
       "      <td>Consent provided</td>\n",
       "      <td>Unknown</td>\n",
       "      <td>2025-06-12</td>\n",
       "      <td>2025-06-13</td>\n",
       "      <td>Other features, terms, or problems</td>\n",
       "      <td>Credit card</td>\n",
       "      <td>NY</td>\n",
       "      <td>Other problem</td>\n",
       "      <td>General-purpose credit card or charge card</td>\n",
       "      <td>Web</td>\n",
       "      <td>Unknown</td>\n",
       "      <td>Yes</td>\n",
       "      <td>11220</td>\n",
       "    </tr>\n",
       "    <tr>\n",
       "      <th>3</th>\n",
       "      <td>i have a citi rewards cards. the credit balanc...</td>\n",
       "      <td>CITIBANK, N.A.</td>\n",
       "      <td>Company has responded to the consumer and the ...</td>\n",
       "      <td>Closed with explanation</td>\n",
       "      <td>14040217</td>\n",
       "      <td>1199.0</td>\n",
       "      <td>I have a Citi rewards cards. The credit balanc...</td>\n",
       "      <td>Consent provided</td>\n",
       "      <td>Unknown</td>\n",
       "      <td>2025-06-12</td>\n",
       "      <td>2025-06-12</td>\n",
       "      <td>Incorrect information on your report</td>\n",
       "      <td>Credit card</td>\n",
       "      <td>IL</td>\n",
       "      <td>Account information incorrect</td>\n",
       "      <td>General-purpose credit card or charge card</td>\n",
       "      <td>Web</td>\n",
       "      <td>Unknown</td>\n",
       "      <td>Yes</td>\n",
       "      <td>60067</td>\n",
       "    </tr>\n",
       "    <tr>\n",
       "      <th>4</th>\n",
       "      <td>b'i am writing to dispute the following charge...</td>\n",
       "      <td>CITIBANK, N.A.</td>\n",
       "      <td>Company has responded to the consumer and the ...</td>\n",
       "      <td>Closed with monetary relief</td>\n",
       "      <td>13968411</td>\n",
       "      <td>2908.0</td>\n",
       "      <td>b'I am writing to dispute the following charge...</td>\n",
       "      <td>Consent provided</td>\n",
       "      <td>Unknown</td>\n",
       "      <td>2025-06-09</td>\n",
       "      <td>2025-06-09</td>\n",
       "      <td>Problem with a purchase shown on your statement</td>\n",
       "      <td>Credit card</td>\n",
       "      <td>TX</td>\n",
       "      <td>Credit card company isn't resolving a dispute ...</td>\n",
       "      <td>General-purpose credit card or charge card</td>\n",
       "      <td>Web</td>\n",
       "      <td>Older American</td>\n",
       "      <td>Yes</td>\n",
       "      <td>78413</td>\n",
       "    </tr>\n",
       "  </tbody>\n",
       "</table>\n",
       "</div>"
      ],
      "text/plain": [
       "                                     Clean Narrative                Company  \\\n",
       "0  a xxxx xxxx card was opened under my name by a...         CITIBANK, N.A.   \n",
       "1  i made the mistake of using my wellsfargo debi...  WELLS FARGO & COMPANY   \n",
       "2  i have a secured credit card with citibank whi...         CITIBANK, N.A.   \n",
       "3  i have a citi rewards cards. the credit balanc...         CITIBANK, N.A.   \n",
       "4  b'i am writing to dispute the following charge...         CITIBANK, N.A.   \n",
       "\n",
       "                             Company Public Response  \\\n",
       "0  Company has responded to the consumer and the ...   \n",
       "1  Company has responded to the consumer and the ...   \n",
       "2  Company has responded to the consumer and the ...   \n",
       "3  Company has responded to the consumer and the ...   \n",
       "4  Company has responded to the consumer and the ...   \n",
       "\n",
       "      Company Response To Consumer  Complaint Id  Complaint Length  \\\n",
       "0  Closed with non-monetary relief      14069121             488.0   \n",
       "1          Closed with explanation      14061897             555.0   \n",
       "2      Closed with monetary relief      14047085             806.0   \n",
       "3          Closed with explanation      14040217            1199.0   \n",
       "4      Closed with monetary relief      13968411            2908.0   \n",
       "\n",
       "                        Consumer Complaint Narrative  \\\n",
       "0  A XXXX XXXX card was opened under my name by a...   \n",
       "1  I made the mistake of using my wellsfargo debi...   \n",
       "2  Dear CFPB, I have a secured credit card with c...   \n",
       "3  I have a Citi rewards cards. The credit balanc...   \n",
       "4  b'I am writing to dispute the following charge...   \n",
       "\n",
       "  Consumer Consent Provided? Consumer Disputed? Date Received  \\\n",
       "0           Consent provided            Unknown    2025-06-13   \n",
       "1           Consent provided            Unknown    2025-06-13   \n",
       "2           Consent provided            Unknown    2025-06-12   \n",
       "3           Consent provided            Unknown    2025-06-12   \n",
       "4           Consent provided            Unknown    2025-06-09   \n",
       "\n",
       "  Date Sent To Company                                            Issue  \\\n",
       "0           2025-06-13                            Getting a credit card   \n",
       "1           2025-06-13                              Managing an account   \n",
       "2           2025-06-13               Other features, terms, or problems   \n",
       "3           2025-06-12             Incorrect information on your report   \n",
       "4           2025-06-09  Problem with a purchase shown on your statement   \n",
       "\n",
       "                       Product State  \\\n",
       "0                  Credit card    TX   \n",
       "1  Checking or savings account    ID   \n",
       "2                  Credit card    NY   \n",
       "3                  Credit card    IL   \n",
       "4                  Credit card    TX   \n",
       "\n",
       "                                           Sub-Issue  \\\n",
       "0        Card opened without my consent or knowledge   \n",
       "1                           Deposits and withdrawals   \n",
       "2                                      Other problem   \n",
       "3                      Account information incorrect   \n",
       "4  Credit card company isn't resolving a dispute ...   \n",
       "\n",
       "                                  Sub-Product Submitted Via            Tags  \\\n",
       "0                           Store credit card           Web   Servicemember   \n",
       "1                            Checking account           Web         Unknown   \n",
       "2  General-purpose credit card or charge card           Web         Unknown   \n",
       "3  General-purpose credit card or charge card           Web         Unknown   \n",
       "4  General-purpose credit card or charge card           Web  Older American   \n",
       "\n",
       "  Timely Response? Zip Code  \n",
       "0              Yes    78230  \n",
       "1              Yes    83815  \n",
       "2              Yes    11220  \n",
       "3              Yes    60067  \n",
       "4              Yes    78413  "
      ]
     },
     "metadata": {},
     "output_type": "display_data"
    },
    {
     "name": "stdout",
     "output_type": "stream",
     "text": [
      "\n",
      "🔹Processed DataFrame shape: (456510, 20)\n"
     ]
    }
   ],
   "source": [
    "# Save processed DataFrame\n",
    "eda.save_df()"
   ]
  }
 ],
 "metadata": {
  "kernelspec": {
   "display_name": ".chatvenv",
   "language": "python",
   "name": "python3"
  },
  "language_info": {
   "codemirror_mode": {
    "name": "ipython",
    "version": 3
   },
   "file_extension": ".py",
   "mimetype": "text/x-python",
   "name": "python",
   "nbconvert_exporter": "python",
   "pygments_lexer": "ipython3",
   "version": "3.11.9"
  }
 },
 "nbformat": 4,
 "nbformat_minor": 5
}
