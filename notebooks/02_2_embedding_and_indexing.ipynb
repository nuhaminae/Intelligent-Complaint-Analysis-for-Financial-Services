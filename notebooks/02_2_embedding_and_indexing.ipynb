{
 "cells": [
  {
   "cell_type": "markdown",
   "id": "c11150d1",
   "metadata": {},
   "source": [
    "# **Import Modules**"
   ]
  },
  {
   "cell_type": "markdown",
   "id": "2644a9e3",
   "metadata": {},
   "source": [
    "## *python*"
   ]
  },
  {
   "cell_type": "code",
   "execution_count": 1,
   "id": "31eb1583",
   "metadata": {},
   "outputs": [],
   "source": [
    "# Import python modules\n",
    "import os,sys"
   ]
  },
  {
   "cell_type": "markdown",
   "id": "839a4fb9",
   "metadata": {},
   "source": [
    "## *custom*"
   ]
  },
  {
   "cell_type": "code",
   "execution_count": 2,
   "id": "bb87acea",
   "metadata": {},
   "outputs": [],
   "source": [
    "# Import customised modules\n",
    "\n",
    "# Define path\n",
    "sys.path.append(os.path.abspath(os.path.join('..')))\n",
    "\n",
    "##import relevant modules\n",
    "try:\n",
    "    from scripts._02_2_embed_and_index import LangchainIndexer\n",
    "\n",
    "except ImportError:\n",
    "    print('Could not import module from `scripts/`.')"
   ]
  },
  {
   "cell_type": "markdown",
   "id": "655e0b1b",
   "metadata": {},
   "source": [
    "# **Embedding and Indexing**"
   ]
  },
  {
   "cell_type": "code",
   "execution_count": 3,
   "id": "8567dc5d",
   "metadata": {},
   "outputs": [],
   "source": [
    "# Define DataFrame path\n",
    "df_chunks_path = ('../data/processed/chunked_complaints.csv')\n",
    "vector_store_dir = ('../vector store')"
   ]
  },
  {
   "cell_type": "code",
   "execution_count": 4,
   "id": "d210b4eb",
   "metadata": {},
   "outputs": [
    {
     "name": "stdout",
     "output_type": "stream",
     "text": [
      "Using embedding model: all-MiniLM-L6-v2\n",
      "\n",
      "Loaded 1022264 chunks from ../data/processed/chunked_complaints.csv\n",
      "\n",
      "Indexing 1022264 complaint chunks into ChromaDB in batches of 5000...\n",
      "\n"
     ]
    },
    {
     "name": "stderr",
     "output_type": "stream",
     "text": [
      "Preparing documents: 100%|██████████| 1022264/1022264 [01:19<00:00, 12832.81it/s]\n"
     ]
    },
    {
     "name": "stdout",
     "output_type": "stream",
     "text": [
      "\n",
      "Vector store saved to: ../vector store\n",
      "\n",
      "All batches indexed successfully.\n"
     ]
    }
   ],
   "source": [
    "indexer = LangchainIndexer(df_chunks_path=df_chunks_path, vector_store_dir=vector_store_dir)\n",
    "indexer.load_chunks()\n",
    "\n",
    "# Resume batch if interrupted\n",
    "indexer.index_chunks(batch_size=5000, resume_from=205)"
   ]
  },
  {
   "cell_type": "code",
   "execution_count": 5,
   "id": "24146150",
   "metadata": {},
   "outputs": [
    {
     "name": "stdout",
     "output_type": "stream",
     "text": [
      "--- Result 1 ---\n",
      "Product: Money transfer, virtual currency, or money service\n",
      "Issue: Lost or stolen money order\n",
      "Chunk:. customer always first, feel like fraud. purposely lose check squeeze extra monthly payment profit more? many others complaining across internet customer always losing.\n",
      "\n",
      "--- Result 2 ---\n",
      "Product: Credit card or prepaid card\n",
      "Issue: Advertising and marketing, including promotional offers\n",
      "Chunk:. people always make happen look like trying keep payment going newest purchase oldest purchase lot deferred interest happens paid promotional end date. wrong deceptive.\n",
      "\n",
      "--- Result 3 ---\n",
      "Product: Credit card\n",
      "Issue: Trouble using your card\n",
      "Chunk:. pay card twice month full. late payment charges. company almost 10yrs now. credit increase said take day report come back mine came back within hour like automatic rejection. company treating unfair consumer legit reason cannot explain why.\n",
      "\n",
      "--- Result 4 ---\n",
      "Product: Credit card or prepaid card\n",
      "Issue: Struggling to pay your bill\n",
      "Chunk:. loyal customer many years, never missed payment.. true time need company nothing help. fact, beneficial make q payment, money next month interest. despicable, disappointed. know do. need eat, number 1.\n",
      "\n",
      "--- Result 5 ---\n",
      "Product: Credit card or prepaid card\n",
      "Issue: Fees or interest\n",
      "Chunk:. thing marketed buy now, pay later xxxx interest steer customer pay full principal xxxx even payment without interest. found deceptive recommend investigation potential xxxx fine.\n",
      "\n"
     ]
    }
   ],
   "source": [
    "# Search for complaints related to BNPL issues\n",
    "results = indexer.search(query=\"Why are customers unhappy with Buy Now Pay Later?\", k=5)\n",
    "\n",
    "# Print the top result\n",
    "for i, doc in enumerate(results):\n",
    "    print(f\"--- Result {i+1} ---\")\n",
    "    print(f\"Product: {doc.metadata.get('Product')}\")\n",
    "    print(f\"Issue: {doc.metadata.get('Issue')}\")\n",
    "    print(f\"Chunk:{doc.page_content}\\n\")"
   ]
  },
  {
   "cell_type": "code",
   "execution_count": 6,
   "id": "fbdf9b02",
   "metadata": {},
   "outputs": [
    {
     "name": "stdout",
     "output_type": "stream",
     "text": [
      "--- Result 1 ---\n",
      "Product: Credit card or prepaid card\n",
      "Issue: Advertising and marketing, including promotional offers\n",
      "Chunk:. refuse pay something have, especially purchase made deceitful conditions. yet responed complaint. 4 credit card bank every last one card given problem merchant making erroneous charge bank take excessive amount time complete investigations.\n",
      "\n",
      "--- Result 2 ---\n",
      "Product: Credit card or prepaid card\n",
      "Issue: Problem with a purchase shown on your statement\n",
      "Chunk:dissatisfied purchases, billing errors, late fee errors, phone calls, valid response letter sent, accessing credit file submitting error credit report agencies.\n",
      "\n",
      "--- Result 3 ---\n",
      "Product: Credit card or prepaid card\n",
      "Issue: Closing your account\n",
      "Chunk:. company complaint about? capital one credit card people involved? capital one credit card thank\n",
      "\n",
      "--- Result 4 ---\n",
      "Product: Credit card or prepaid card\n",
      "Issue: Getting a credit card\n",
      "Chunk:. informed going file official complaint word were, going file complaint. certainly would like know intended stop me. card going used buying school book nothing since promising xxxx dollar credit first month statement. also personal great job throwing past credit mistake face, made regard looking well keeping current account well paid every month.\n",
      "\n",
      "--- Result 5 ---\n",
      "Product: Credit card or prepaid card\n",
      "Issue: Problem with a purchase shown on your statement\n",
      "Chunk:filed complaint consumer protection bureau. however, nothing done. filed complaint credit card company directly. requested fraudulent charge account removed. requested statement dating back account initially opened. asked payment account accounted for. company ignored complaint recently placed account negative status detrimental credit score. never used credit card outside xxxx xxxx xxxx three year since used card. longer possession it\n",
      "\n"
     ]
    }
   ],
   "source": [
    "indexer.preview_results(query=\"What are the common complaints about credit cards?\", k=5)"
   ]
  }
 ],
 "metadata": {
  "kernelspec": {
   "display_name": ".chatvenv",
   "language": "python",
   "name": "python3"
  },
  "language_info": {
   "codemirror_mode": {
    "name": "ipython",
    "version": 3
   },
   "file_extension": ".py",
   "mimetype": "text/x-python",
   "name": "python",
   "nbconvert_exporter": "python",
   "pygments_lexer": "ipython3",
   "version": "3.12.3"
  }
 },
 "nbformat": 4,
 "nbformat_minor": 5
}
