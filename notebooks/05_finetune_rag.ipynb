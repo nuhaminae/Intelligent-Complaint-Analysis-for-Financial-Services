{
 "cells": [
  {
   "cell_type": "markdown",
   "id": "f751d694",
   "metadata": {},
   "source": [
    "# **Import Modules**"
   ]
  },
  {
   "cell_type": "markdown",
   "id": "d0d496f1",
   "metadata": {},
   "source": [
    "## *python*"
   ]
  },
  {
   "cell_type": "code",
   "execution_count": 1,
   "id": "f8584f4d",
   "metadata": {},
   "outputs": [],
   "source": [
    "# Import python modules\n",
    "import os\n",
    "import sys"
   ]
  },
  {
   "cell_type": "markdown",
   "id": "8352e2e0",
   "metadata": {},
   "source": [
    "## *custom*"
   ]
  },
  {
   "cell_type": "code",
   "execution_count": 2,
   "id": "45ae3638",
   "metadata": {},
   "outputs": [],
   "source": [
    "# Import customised modules\n",
    "\n",
    "# Define path\n",
    "sys.path.append(os.path.abspath(os.path.join(\"..\")))\n",
    "\n",
    "# Import relevant modules\n",
    "try:\n",
    "    from scripts._05_finetuning_rag import FineTune\n",
    "\n",
    "except ImportError:\n",
    "    print(\"Could not import module from `scripts/`.\")"
   ]
  },
  {
   "cell_type": "markdown",
   "id": "51337368",
   "metadata": {},
   "source": [
    "# **Fine Tune RAG**"
   ]
  },
  {
   "cell_type": "code",
   "execution_count": 3,
   "id": "2e4cb180",
   "metadata": {},
   "outputs": [],
   "source": [
    "# Define necessary directories\n",
    "train_pair_path = \"../data/evaluation/complaint_response_pairs.jsonl\"\n",
    "output_dir = \"../model\""
   ]
  },
  {
   "cell_type": "code",
   "execution_count": 4,
   "id": "fb394860",
   "metadata": {},
   "outputs": [
    {
     "name": "stdout",
     "output_type": "stream",
     "text": [
      "🚀 Initialising fine-tuning pipeline...\n",
      "\n",
      "📥 Loaded 20 training pairs from ..\\data\\evaluation\\complaint_response_pairs.jsonl\n",
      "\n",
      "📊 Train dataset size: 16\n",
      "📊 Eval dataset size: 4\n",
      "\n",
      "📦 Tokenising datasets...\n"
     ]
    },
    {
     "data": {
      "application/vnd.jupyter.widget-view+json": {
       "model_id": "99076bb81ef04d2b9901adf51ef1a1e5",
       "version_major": 2,
       "version_minor": 0
      },
      "text/plain": [
       "Map:   0%|          | 0/16 [00:00<?, ? examples/s]"
      ]
     },
     "metadata": {},
     "output_type": "display_data"
    },
    {
     "data": {
      "application/vnd.jupyter.widget-view+json": {
       "model_id": "56bc235e172a495ea9bd1e4db769202d",
       "version_major": 2,
       "version_minor": 0
      },
      "text/plain": [
       "Map:   0%|          | 0/4 [00:00<?, ? examples/s]"
      ]
     },
     "metadata": {},
     "output_type": "display_data"
    },
    {
     "name": "stdout",
     "output_type": "stream",
     "text": [
      "\n",
      "🧠 Starting training...\n"
     ]
    },
    {
     "name": "stderr",
     "output_type": "stream",
     "text": [
      "Passing a tuple of `past_key_values` is deprecated and will be removed in Transformers v4.48.0. You should pass an instance of `EncoderDecoderCache` instead, e.g. `past_key_values=EncoderDecoderCache.from_legacy_cache(past_key_values)`.\n"
     ]
    },
    {
     "data": {
      "text/html": [
       "\n",
       "    <div>\n",
       "      \n",
       "      <progress value='8' max='8' style='width:300px; height:20px; vertical-align: middle;'></progress>\n",
       "      [8/8 12:51, Epoch 4/4]\n",
       "    </div>\n",
       "    <table border=\"1\" class=\"dataframe\">\n",
       "  <thead>\n",
       " <tr style=\"text-align: left;\">\n",
       "      <th>Epoch</th>\n",
       "      <th>Training Loss</th>\n",
       "      <th>Validation Loss</th>\n",
       "      <th>Rouge1</th>\n",
       "      <th>Rouge2</th>\n",
       "      <th>Rougel</th>\n",
       "      <th>Rougelsum</th>\n",
       "    </tr>\n",
       "  </thead>\n",
       "  <tbody>\n",
       "    <tr>\n",
       "      <td>1</td>\n",
       "      <td>41.321200</td>\n",
       "      <td>40.462112</td>\n",
       "      <td>0.444030</td>\n",
       "      <td>0.361127</td>\n",
       "      <td>0.441486</td>\n",
       "      <td>0.441486</td>\n",
       "    </tr>\n",
       "    <tr>\n",
       "      <td>2</td>\n",
       "      <td>32.954700</td>\n",
       "      <td>35.971024</td>\n",
       "      <td>0.573851</td>\n",
       "      <td>0.483727</td>\n",
       "      <td>0.573851</td>\n",
       "      <td>0.573851</td>\n",
       "    </tr>\n",
       "    <tr>\n",
       "      <td>3</td>\n",
       "      <td>30.323700</td>\n",
       "      <td>33.654324</td>\n",
       "      <td>0.618460</td>\n",
       "      <td>0.530689</td>\n",
       "      <td>0.618460</td>\n",
       "      <td>0.618460</td>\n",
       "    </tr>\n",
       "    <tr>\n",
       "      <td>4</td>\n",
       "      <td>28.855700</td>\n",
       "      <td>32.741531</td>\n",
       "      <td>0.618460</td>\n",
       "      <td>0.530689</td>\n",
       "      <td>0.618460</td>\n",
       "      <td>0.618460</td>\n",
       "    </tr>\n",
       "  </tbody>\n",
       "</table><p>"
      ],
      "text/plain": [
       "<IPython.core.display.HTML object>"
      ]
     },
     "metadata": {},
     "output_type": "display_data"
    },
    {
     "data": {
      "text/html": [
       "\n",
       "    <div>\n",
       "      \n",
       "      <progress value='1' max='1' style='width:300px; height:20px; vertical-align: middle;'></progress>\n",
       "      [1/1 : < :]\n",
       "    </div>\n",
       "    "
      ],
      "text/plain": [
       "<IPython.core.display.HTML object>"
      ]
     },
     "metadata": {},
     "output_type": "display_data"
    },
    {
     "name": "stdout",
     "output_type": "stream",
     "text": [
      "\n",
      "📈 Final Evaluation Metrics:\n",
      "eval_loss: 32.7415\n",
      "eval_rouge1: 0.6185\n",
      "eval_rouge2: 0.5307\n",
      "eval_rougeL: 0.6185\n",
      "eval_rougeLsum: 0.6185\n",
      "eval_runtime: 9.6663\n",
      "eval_samples_per_second: 0.4140\n",
      "eval_steps_per_second: 0.1030\n",
      "epoch: 4.0000\n",
      "\n",
      "💾 Model fine-tuned and saved to ..\\model\n"
     ]
    }
   ],
   "source": [
    "# Initialise the pipeline\n",
    "tunning = FineTune(\n",
    "    model_name=\"google/flan-t5-base\",\n",
    "    train_pair_path=train_pair_path,\n",
    "    output_dir=output_dir,\n",
    ")\n",
    "tunning.train()"
   ]
  }
 ],
 "metadata": {
  "kernelspec": {
   "display_name": ".chatvenv",
   "language": "python",
   "name": "python3"
  },
  "language_info": {
   "codemirror_mode": {
    "name": "ipython",
    "version": 3
   },
   "file_extension": ".py",
   "mimetype": "text/x-python",
   "name": "python",
   "nbconvert_exporter": "python",
   "pygments_lexer": "ipython3",
   "version": "3.11.9"
  }
 },
 "nbformat": 4,
 "nbformat_minor": 5
}
