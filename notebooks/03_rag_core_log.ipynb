{
 "cells": [
  {
   "cell_type": "markdown",
   "id": "537267f7",
   "metadata": {},
   "source": [
    "# **Import Modules**"
   ]
  },
  {
   "cell_type": "markdown",
   "id": "176566d1",
   "metadata": {},
   "source": [
    "## *python*"
   ]
  },
  {
   "cell_type": "code",
   "execution_count": 1,
   "id": "f3af1e74",
   "metadata": {},
   "outputs": [],
   "source": [
    "# Import python modules\n",
    "import os,sys\n",
    "from chromadb import PersistentClient"
   ]
  },
  {
   "cell_type": "markdown",
   "id": "f76a4736",
   "metadata": {},
   "source": [
    "## *custom*"
   ]
  },
  {
   "cell_type": "code",
   "execution_count": 2,
   "id": "393e6476",
   "metadata": {},
   "outputs": [],
   "source": [
    "# Import customised modules\n",
    "\n",
    "# Define path\n",
    "sys.path.append(os.path.abspath(os.path.join('..')))\n",
    "\n",
    "##import relevant modules\n",
    "try:\n",
    "    from scripts._03_rag_core_logic import RAGPipeline\n",
    "\n",
    "except ImportError:\n",
    "    print('Could not import module from `scripts/`.')"
   ]
  },
  {
   "cell_type": "markdown",
   "id": "83057a00",
   "metadata": {},
   "source": [
    "# **RAG**"
   ]
  },
  {
   "cell_type": "code",
   "execution_count": 3,
   "id": "f4e35b30",
   "metadata": {},
   "outputs": [],
   "source": [
    "# Define necessary directories\n",
    "vector_store_dir = ('../vector store')\n",
    "eval_dir = ('../data/evaluation')\n",
    "\n",
    "# Load existing ChromaDB vector store\n",
    "client = PersistentClient(path=vector_store_dir)"
   ]
  },
  {
   "cell_type": "code",
   "execution_count": 4,
   "id": "3dff5d6a",
   "metadata": {},
   "outputs": [
    {
     "name": "stdout",
     "output_type": "stream",
     "text": [
      "Initialising RAGPipeline...\n"
     ]
    },
    {
     "name": "stderr",
     "output_type": "stream",
     "text": [
      "Device set to use cpu\n"
     ]
    },
    {
     "name": "stdout",
     "output_type": "stream",
     "text": [
      "RAGPipeline initialised.\n"
     ]
    }
   ],
   "source": [
    "# Initialise the pipeline\n",
    "rag = RAGPipeline(chroma_client=client, eval_dir=eval_dir)"
   ]
  },
  {
   "cell_type": "code",
   "execution_count": 5,
   "id": "a94ffa49",
   "metadata": {},
   "outputs": [
    {
     "name": "stdout",
     "output_type": "stream",
     "text": [
      "----------------------------------------------------------------------------------------------------\n",
      "Running RAG pipeline for: Why are users unhappy with BNPL?\n",
      "\n",
      "Answer:\n",
      "BNPL's customer service is terrible.\n",
      "\n",
      "Sources retrieved: 1\n",
      "----------------------------------------------------------------------------------------------------\n",
      "\n",
      "Sources:\n",
      " . trying take advantage higher rate saving new online banking bmo alto customer service terrible. least provide denial explanation? also escalated concern bmo bank management response. extremely disappointing!\n"
     ]
    }
   ],
   "source": [
    "# Run a single query\n",
    "question = \"Why are users unhappy with BNPL?\"\n",
    "result = rag.run(question=question)\n",
    "print(\"\\nSources:\\n\", \"\\n---\\n\".join(result[\"sources\"]))"
   ]
  },
  {
   "cell_type": "code",
   "execution_count": 6,
   "id": "5ffa72cd",
   "metadata": {},
   "outputs": [
    {
     "name": "stdout",
     "output_type": "stream",
     "text": [
      "Starting evaluation on 10 questions...\n"
     ]
    },
    {
     "name": "stderr",
     "output_type": "stream",
     "text": [
      "Evaluating:   0%|          | 0/10 [00:00<?, ?it/s]"
     ]
    },
    {
     "name": "stdout",
     "output_type": "stream",
     "text": [
      "----------------------------------------------------------------------------------------------------\n",
      "Running RAG pipeline for: Why are users unhappy with BNPL?\n"
     ]
    },
    {
     "name": "stderr",
     "output_type": "stream",
     "text": [
      "Evaluating:  10%|█         | 1/10 [00:01<00:15,  1.69s/it]"
     ]
    },
    {
     "name": "stdout",
     "output_type": "stream",
     "text": [
      "\n",
      "Answer:\n",
      "BNPL's customer service is terrible.\n",
      "\n",
      "Sources retrieved: 1\n",
      "----------------------------------------------------------------------------------------------------\n",
      "----------------------------------------------------------------------------------------------------\n",
      "Running RAG pipeline for: Do customers report unexpected fees on personal loans?\n"
     ]
    },
    {
     "name": "stderr",
     "output_type": "stream",
     "text": [
      "Evaluating:  20%|██        | 2/10 [00:07<00:34,  4.26s/it]"
     ]
    },
    {
     "name": "stdout",
     "output_type": "stream",
     "text": [
      "\n",
      "Answer:\n",
      "Unexpected fees on personal loans are common.\n",
      "\n",
      "Sources retrieved: 2\n",
      "----------------------------------------------------------------------------------------------------\n",
      "----------------------------------------------------------------------------------------------------\n",
      "Running RAG pipeline for: What are the most common complaints about credit cards?\n"
     ]
    },
    {
     "name": "stderr",
     "output_type": "stream",
     "text": [
      "Evaluating:  30%|███       | 3/10 [00:22<01:04,  9.20s/it]"
     ]
    },
    {
     "name": "stdout",
     "output_type": "stream",
     "text": [
      "\n",
      "Answer:\n",
      "Refuse pay something have, especially purchase made deceitful conditions. yet responed complaint. 4 credit card bank every last one card given problem merchant making erroneous charge bank take excessive amount time complete investigations.\n",
      "\n",
      "Sources retrieved: 2\n",
      "----------------------------------------------------------------------------------------------------\n",
      "----------------------------------------------------------------------------------------------------\n",
      "Running RAG pipeline for: Do users report delays or failures in money transfers?\n"
     ]
    },
    {
     "name": "stderr",
     "output_type": "stream",
     "text": [
      "Evaluating:  40%|████      | 4/10 [00:47<01:31, 15.24s/it]"
     ]
    },
    {
     "name": "stdout",
     "output_type": "stream",
     "text": [
      "\n",
      "Answer:\n",
      "Delays, system errors, lack responsiveness money network caused significant financial hardship frustration. . however, informed would need wait another five day check sent again, top additional time delivery. entire process going four months, still unable access funds. repeated delays, system errors, lack responsiveness money network caused significant financial hardship frustration. requesting immediate action ensure check processed delivered without delays. Additionally, money network need address login system errors, extended hold times, communication failure made situation even frustrating.\n",
      "\n",
      "Sources retrieved: 1\n",
      "----------------------------------------------------------------------------------------------------\n",
      "----------------------------------------------------------------------------------------------------\n",
      "Running RAG pipeline for: Are there recurring issues with savings accounts being frozen?\n"
     ]
    },
    {
     "name": "stderr",
     "output_type": "stream",
     "text": [
      "Evaluating:  50%|█████     | 5/10 [00:49<00:52, 10.54s/it]"
     ]
    },
    {
     "name": "stdout",
     "output_type": "stream",
     "text": [
      "\n",
      "Answer:\n",
      "Yes.\n",
      "\n",
      "Sources retrieved: 1\n",
      "----------------------------------------------------------------------------------------------------\n",
      "----------------------------------------------------------------------------------------------------\n",
      "Running RAG pipeline for: Are there recurring complaints about customer service across products?\n"
     ]
    },
    {
     "name": "stderr",
     "output_type": "stream",
     "text": [
      "Evaluating:  60%|██████    | 6/10 [00:55<00:35,  8.97s/it]"
     ]
    },
    {
     "name": "stdout",
     "output_type": "stream",
     "text": [
      "\n",
      "Answer:\n",
      "Yes, there are recurring complaints about customer service across products.\n",
      "\n",
      "Sources retrieved: 2\n",
      "----------------------------------------------------------------------------------------------------\n",
      "----------------------------------------------------------------------------------------------------\n",
      "Running RAG pipeline for: Are there patterns of confusion around interest rates or loan terms?\n"
     ]
    },
    {
     "name": "stderr",
     "output_type": "stream",
     "text": [
      "Evaluating:  70%|███████   | 7/10 [00:59<00:21,  7.30s/it]"
     ]
    },
    {
     "name": "stdout",
     "output_type": "stream",
     "text": [
      "\n",
      "Answer:\n",
      "Interest rates and loan terms are often misunderstood and misunderstood.\n",
      "\n",
      "Sources retrieved: 1\n",
      "----------------------------------------------------------------------------------------------------\n",
      "----------------------------------------------------------------------------------------------------\n",
      "Running RAG pipeline for: Why are users disputing credit card charges?\n"
     ]
    },
    {
     "name": "stderr",
     "output_type": "stream",
     "text": [
      "Evaluating:  80%|████████  | 8/10 [01:11<00:17,  8.99s/it]"
     ]
    },
    {
     "name": "stdout",
     "output_type": "stream",
     "text": [
      "\n",
      "Answer:\n",
      "Informed charge made, misleading unfair. would used card payment known would count. believe deceptive practice. credit card issuer must transparent qualify bonus spending thresholds. representative telling documentation exclusion underscore lack transparency.\n",
      "\n",
      "Sources retrieved: 2\n",
      "----------------------------------------------------------------------------------------------------\n",
      "----------------------------------------------------------------------------------------------------\n",
      "Running RAG pipeline for: What are the most common problems with personal loans?\n"
     ]
    },
    {
     "name": "stderr",
     "output_type": "stream",
     "text": [
      "Evaluating:  90%|█████████ | 9/10 [01:24<00:09,  9.98s/it]"
     ]
    },
    {
     "name": "stdout",
     "output_type": "stream",
     "text": [
      "\n",
      "Answer:\n",
      "Loan highly negatively impacted lifestyle got debt owed borrow. id like exercise right consumer consume predatory interest rate fees.\n",
      "\n",
      "Sources retrieved: 2\n",
      "----------------------------------------------------------------------------------------------------\n",
      "----------------------------------------------------------------------------------------------------\n",
      "Running RAG pipeline for: What problems do customers face with international transfers?\n"
     ]
    },
    {
     "name": "stderr",
     "output_type": "stream",
     "text": [
      "Evaluating: 100%|██████████| 10/10 [01:30<00:00,  9.07s/it]"
     ]
    },
    {
     "name": "stdout",
     "output_type": "stream",
     "text": [
      "\n",
      "Answer:\n",
      "Amount paid receive international literally go roof, will. fair business practice. believe customer, full visibility conversion rates, fees, charge commission affect transactions, especially result substantial financial hardship.\n",
      "\n",
      "Sources retrieved: 1\n",
      "----------------------------------------------------------------------------------------------------\n",
      "\n",
      "Evaluation complete. Results saved to: ..\\data\\evaluation\\rag_evaluation.csv\n"
     ]
    },
    {
     "name": "stderr",
     "output_type": "stream",
     "text": [
      "\n"
     ]
    }
   ],
   "source": [
    "questions= [\"Why are users unhappy with BNPL?\",\n",
    "        \"Do customers report unexpected fees on personal loans?\",\n",
    "        \"What are the most common complaints about credit cards?\",\n",
    "        \"Do users report delays or failures in money transfers?\",\n",
    "        \"Are there recurring issues with savings accounts being frozen?\",\n",
    "        \"Are there recurring complaints about customer service across products?\",\n",
    "        \"Are there patterns of confusion around interest rates or loan terms?\",\n",
    "        \"Why are users disputing credit card charges?\",\n",
    "        \"What are the most common problems with personal loans?\",\n",
    "        \"What problems do customers face with international transfers?\"]\n",
    "\n",
    "eval_df = rag.evaluate(questions, filename=\"rag_evaluation.csv\")"
   ]
  },
  {
   "cell_type": "code",
   "execution_count": 7,
   "id": "47020d49",
   "metadata": {},
   "outputs": [
    {
     "name": "stdout",
     "output_type": "stream",
     "text": [
      "\n",
      "Markdown evaluation table saved to: ..\\data\\evaluation\\rag_evaluation.md\n"
     ]
    }
   ],
   "source": [
    "# Run after manually scoring eval_df DataFrame\n",
    "rag.generate_markdown_table(df = eval_df)"
   ]
  }
 ],
 "metadata": {
  "kernelspec": {
   "display_name": ".chatvenv",
   "language": "python",
   "name": "python3"
  },
  "language_info": {
   "codemirror_mode": {
    "name": "ipython",
    "version": 3
   },
   "file_extension": ".py",
   "mimetype": "text/x-python",
   "name": "python",
   "nbconvert_exporter": "python",
   "pygments_lexer": "ipython3",
   "version": "3.12.3"
  }
 },
 "nbformat": 4,
 "nbformat_minor": 5
}
