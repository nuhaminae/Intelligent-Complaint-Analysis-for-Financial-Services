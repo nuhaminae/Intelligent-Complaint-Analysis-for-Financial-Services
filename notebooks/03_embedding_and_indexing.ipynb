{
 "cells": [
  {
   "cell_type": "markdown",
   "id": "c11150d1",
   "metadata": {},
   "source": [
    "# **Import Modules**"
   ]
  },
  {
   "cell_type": "markdown",
   "id": "2644a9e3",
   "metadata": {},
   "source": [
    "## *python*"
   ]
  },
  {
   "cell_type": "code",
   "execution_count": 1,
   "id": "31eb1583",
   "metadata": {},
   "outputs": [],
   "source": [
    "# Import python modules\n",
    "import os\n",
    "import sys"
   ]
  },
  {
   "cell_type": "markdown",
   "id": "839a4fb9",
   "metadata": {},
   "source": [
    "## *custom*"
   ]
  },
  {
   "cell_type": "code",
   "execution_count": 2,
   "id": "bb87acea",
   "metadata": {},
   "outputs": [],
   "source": [
    "# Import customised modules\n",
    "\n",
    "# Define path\n",
    "sys.path.append(os.path.abspath(os.path.join(\"..\")))\n",
    "\n",
    "# Import relevant modules\n",
    "try:\n",
    "    from scripts._03_embed_and_index import LangchainIndexer\n",
    "\n",
    "except ImportError:\n",
    "    print(\"Could not import module from `scripts/`.\")"
   ]
  },
  {
   "cell_type": "markdown",
   "id": "655e0b1b",
   "metadata": {},
   "source": [
    "# **Embedding and Indexing**"
   ]
  },
  {
   "cell_type": "code",
   "execution_count": 3,
   "id": "8567dc5d",
   "metadata": {},
   "outputs": [],
   "source": [
    "# Define DataFrame path\n",
    "df_chunks_path = os.path.join(\n",
    "    os.path.dirname(os.getcwd()), \"data/processed/chunked_complaints.csv\"\n",
    ")\n",
    "vector_store_dir = os.path.join(os.path.dirname(os.getcwd()), \"data\", \"vector store\")"
   ]
  },
  {
   "cell_type": "code",
   "execution_count": 4,
   "id": "d210b4eb",
   "metadata": {},
   "outputs": [
    {
     "name": "stdout",
     "output_type": "stream",
     "text": [
      "Using embedding model: all-MiniLM-L6-v2\n",
      "\n",
      "📥 Loaded 1256204 chunks from ..\\data\\processed\\chunked_complaints.csv\n",
      "\n",
      "💎 Indexing 1256204 complaint chunks into ChromaDB in batches of 5000...\n",
      "\n"
     ]
    },
    {
     "name": "stderr",
     "output_type": "stream",
     "text": [
      "Preparing documents: 100%|██████████| 1256204/1256204 [01:05<00:00, 19314.15it/s]\n"
     ]
    },
    {
     "name": "stdout",
     "output_type": "stream",
     "text": [
      "\n",
      "✅ Indexed batch 181 (5000 documents)\n",
      "\n",
      "✅ Indexed batch 182 (5000 documents)\n",
      "\n",
      "✅ Indexed batch 183 (5000 documents)\n",
      "\n",
      "✅ Indexed batch 184 (5000 documents)\n",
      "\n",
      "✅ Indexed batch 185 (5000 documents)\n",
      "\n",
      "✅ Indexed batch 186 (5000 documents)\n",
      "\n",
      "✅ Indexed batch 187 (5000 documents)\n",
      "\n",
      "✅ Indexed batch 188 (5000 documents)\n",
      "\n",
      "✅ Indexed batch 189 (5000 documents)\n",
      "\n",
      "✅ Indexed batch 190 (5000 documents)\n",
      "\n",
      "✅ Indexed batch 191 (5000 documents)\n",
      "\n",
      "✅ Indexed batch 192 (5000 documents)\n",
      "\n",
      "✅ Indexed batch 193 (5000 documents)\n",
      "\n",
      "✅ Indexed batch 194 (5000 documents)\n",
      "\n",
      "✅ Indexed batch 195 (5000 documents)\n",
      "\n",
      "✅ Indexed batch 196 (5000 documents)\n",
      "\n",
      "✅ Indexed batch 197 (5000 documents)\n",
      "\n",
      "✅ Indexed batch 198 (5000 documents)\n",
      "\n",
      "✅ Indexed batch 199 (5000 documents)\n",
      "\n",
      "✅ Indexed batch 200 (5000 documents)\n",
      "\n",
      "✅ Indexed batch 201 (5000 documents)\n",
      "\n",
      "✅ Indexed batch 202 (5000 documents)\n",
      "\n",
      "✅ Indexed batch 203 (5000 documents)\n",
      "\n",
      "✅ Indexed batch 204 (5000 documents)\n",
      "\n",
      "✅ Indexed batch 205 (5000 documents)\n",
      "\n",
      "✅ Indexed batch 206 (5000 documents)\n",
      "\n",
      "✅ Indexed batch 207 (5000 documents)\n",
      "\n",
      "✅ Indexed batch 208 (5000 documents)\n",
      "\n",
      "✅ Indexed batch 209 (5000 documents)\n",
      "\n",
      "✅ Indexed batch 210 (5000 documents)\n",
      "\n",
      "✅ Indexed batch 211 (5000 documents)\n",
      "\n",
      "✅ Indexed batch 212 (5000 documents)\n",
      "\n",
      "✅ Indexed batch 213 (5000 documents)\n",
      "\n",
      "✅ Indexed batch 214 (5000 documents)\n",
      "\n",
      "✅ Indexed batch 215 (5000 documents)\n",
      "\n",
      "✅ Indexed batch 216 (5000 documents)\n",
      "\n",
      "✅ Indexed batch 217 (5000 documents)\n",
      "\n",
      "✅ Indexed batch 218 (5000 documents)\n",
      "\n",
      "✅ Indexed batch 219 (5000 documents)\n",
      "\n",
      "✅ Indexed batch 220 (5000 documents)\n",
      "\n",
      "✅ Indexed batch 221 (5000 documents)\n",
      "\n",
      "✅ Indexed batch 222 (5000 documents)\n",
      "\n",
      "✅ Indexed batch 223 (5000 documents)\n",
      "\n",
      "✅ Indexed batch 224 (5000 documents)\n",
      "\n",
      "✅ Indexed batch 225 (5000 documents)\n",
      "\n",
      "✅ Indexed batch 226 (5000 documents)\n",
      "\n",
      "✅ Indexed batch 227 (5000 documents)\n",
      "\n",
      "✅ Indexed batch 228 (5000 documents)\n",
      "\n",
      "✅ Indexed batch 229 (5000 documents)\n",
      "\n",
      "✅ Indexed batch 230 (5000 documents)\n",
      "\n",
      "✅ Indexed batch 231 (5000 documents)\n",
      "\n",
      "✅ Indexed batch 232 (5000 documents)\n",
      "\n",
      "✅ Indexed batch 233 (5000 documents)\n",
      "\n",
      "✅ Indexed batch 234 (5000 documents)\n",
      "\n",
      "✅ Indexed batch 235 (5000 documents)\n",
      "\n",
      "✅ Indexed batch 236 (5000 documents)\n",
      "\n",
      "✅ Indexed batch 237 (5000 documents)\n",
      "\n",
      "✅ Indexed batch 238 (5000 documents)\n",
      "\n",
      "✅ Indexed batch 239 (5000 documents)\n",
      "\n",
      "✅ Indexed batch 240 (5000 documents)\n",
      "\n",
      "✅ Indexed batch 241 (5000 documents)\n",
      "\n",
      "✅ Indexed batch 242 (5000 documents)\n",
      "\n",
      "✅ Indexed batch 243 (5000 documents)\n",
      "\n",
      "✅ Indexed batch 244 (5000 documents)\n",
      "\n",
      "✅ Indexed batch 245 (5000 documents)\n",
      "\n",
      "✅ Indexed batch 246 (5000 documents)\n",
      "\n",
      "✅ Indexed batch 247 (5000 documents)\n",
      "\n",
      "✅ Indexed batch 248 (5000 documents)\n",
      "\n",
      "✅ Indexed batch 249 (5000 documents)\n",
      "\n",
      "✅ Indexed batch 250 (5000 documents)\n",
      "\n",
      "✅ Indexed batch 251 (5000 documents)\n",
      "\n",
      "✅ Indexed batch 252 (1204 documents)\n",
      "\n",
      "💾 Vector store saved to: ..\\data\\vector store\n",
      "\n",
      "✅ All batches indexed successfully.\n"
     ]
    }
   ],
   "source": [
    "indexer = LangchainIndexer(\n",
    "    df_chunks_path=df_chunks_path, vector_store_dir=vector_store_dir\n",
    ")\n",
    "\n",
    "# Resume batch if interrupted\n",
    "indexer.index_chunks(\n",
    "    batch_size=5000, resume_from=180\n",
    ")  # Resume for chunk 180 (default is zero)"
   ]
  },
  {
   "cell_type": "code",
   "execution_count": 5,
   "id": "24146150",
   "metadata": {},
   "outputs": [
    {
     "name": "stdout",
     "output_type": "stream",
     "text": [
      "--- Result 1 ---\n",
      "Product: Credit card\n",
      "Issue: Other features, terms, or problems\n",
      "Chunk:i am am shocked and appaled that this is how they treat valued customers, as i have an excellent credit rating and have never been late on a payment.\n",
      "\n",
      "--- Result 2 ---\n",
      "Product: Credit card or prepaid card\n",
      "Issue: Fees or interest\n",
      "Chunk:they are now charging customers late fees even if they received the payment on the same day.\n",
      "\n",
      "--- Result 3 ---\n",
      "Product: Credit card\n",
      "Issue: APR or interest rate\n",
      "Chunk:i thought that the new laws protected customers if they were a few days late on a payment?\n",
      "\n",
      "--- Result 4 ---\n",
      "Product: Credit card\n",
      "Issue: Late fee\n",
      "Chunk:i am sure i am not the only consumer this is happening to. we should not be penalized for making payments early. there should be a system in place to prevent this mis-applying of payments and charging unfair late fees to consumers- especially ones like me who have been faithful in paying every single month.\n",
      "\n",
      "--- Result 5 ---\n",
      "Product: Credit card\n",
      "Issue: Fees or interest\n",
      "Chunk:i have been a loyal customer since xxxx, never missed a payment and never been late and never asked for an increase.\n",
      "\n"
     ]
    }
   ],
   "source": [
    "# Search for complaints related to BNPL issues\n",
    "results = indexer.search(query=\"Why are customers unhappy with Buy Now Pay Later?\", k=5)\n",
    "\n",
    "# Print the top result\n",
    "for i, doc in enumerate(results):\n",
    "    print(f\"--- Result {i+1} ---\")\n",
    "    print(f\"Product: {doc.metadata.get('Product')}\")\n",
    "    print(f\"Issue: {doc.metadata.get('Issue')}\")\n",
    "    print(f\"Chunk:{doc.page_content}\\n\")"
   ]
  },
  {
   "cell_type": "code",
   "execution_count": 7,
   "id": "43a706b3",
   "metadata": {},
   "outputs": [
    {
     "name": "stdout",
     "output_type": "stream",
     "text": [
      "--- Result 1 ---\n",
      "Product: Payday loan\n",
      "Issue: Charged fees or interest I didn't expect\n",
      "Chunk:secondly, the rates are staggering and they never check to see if i could afford these loans as there are rules stating that a purchaser should not pay on more than xxxx outstanding payday loans at any one time. and, i have been paying on a total of ( xxxx ) payday loans for well over 9 months in succession with much difficulty. thirdly, i not only continue to pay these loans with exorbitant rates and fees.\n",
      "\n",
      "--- Result 2 ---\n",
      "Product: Payday loan\n",
      "Issue: Charged fees or interest I didn't expect\n",
      "Chunk:secondly, the rates are staggering and they never check to see if i could afford these loans as there are rules stating that a purchaser should not pay on more than xxxx outstanding payday loans at any one time. and, i have been paying on a total of ( xxxx ) payday loans for well over 9 months in succession with much difficulty. thirdly, i not only continue to pay these loans with exorbitant rates and fees.\n",
      "\n",
      "--- Result 3 ---\n",
      "Product: Payday loan\n",
      "Issue: Charged fees or interest I didn't expect\n",
      "Chunk:secondly, the rates are staggering and they never check to see if i could afford these loans as there are rules stating that a purchaser should not pay on more than xxxx outstanding payday loans at any one time. and, i have been paying on a total of ( xxxx ) payday loans for well over 9 months in succession with much difficulty. thirdly, i not only continue to pay these loans with exorbitant rates and fees.\n",
      "\n",
      "--- Result 4 ---\n",
      "Product: Payday loan\n",
      "Issue: Charged fees or interest I didn't expect\n",
      "Chunk:we have used payday loans in the past and realize they are pricey forms of funds, but this is excessive and was not disclosed at the onset.\n",
      "\n",
      "--- Result 5 ---\n",
      "Product: Payday loan, title loan, or personal loan\n",
      "Issue: Money was taken from your bank account on the wrong day or for the wrong amount\n",
      "Chunk:they are always very nice & extremely helpful. i like doing business with them. i do not like having that outstanding loan because it is true what they say, payday loans are a trap & hard to get out of. i pride myself in paying them timely & never being a problem customer. my plan was to figure out how to pay it off in the next month or 2 but taking that hit can be hard because you still end up short on bills. so it is not easy to pay off.\n",
      "\n"
     ]
    }
   ],
   "source": [
    "# Search for complaints related to Payday Loans issues\n",
    "results = indexer.search(query=\"Why are customers unhappy with Payday Loans?\", k=5)\n",
    "\n",
    "# Print the top result\n",
    "for i, doc in enumerate(results):\n",
    "    print(f\"--- Result {i+1} ---\")\n",
    "    print(f\"Product: {doc.metadata.get('Product')}\")\n",
    "    print(f\"Issue: {doc.metadata.get('Issue')}\")\n",
    "    print(f\"Chunk:{doc.page_content}\\n\")"
   ]
  },
  {
   "cell_type": "code",
   "execution_count": 6,
   "id": "fbdf9b02",
   "metadata": {},
   "outputs": [
    {
     "name": "stdout",
     "output_type": "stream",
     "text": [
      " --- Result 1 --- \n",
      "🔹 Product: Credit card\n",
      "🔹 Issue: Problem with a purchase shown on your statement\n",
      "🔹 Chunk :this is terriable and this is not right and i am wanting to do a formal complaint with these credit card practices. can you please assist best, xxxx xxxx xxxx\n",
      "\n",
      " --- Result 2 --- \n",
      "🔹 Product: Credit card or prepaid card\n",
      "🔹 Issue: Problem with a purchase shown on your statement\n",
      "🔹 Chunk :dissatisfied with purchases, billing errors, late fees errors, phones calls, no valid responses from letters sent, accessing credit files and submitting errors to credit report agencies.\n",
      "\n",
      " --- Result 3 --- \n",
      "🔹 Product: Credit card or prepaid card\n",
      "🔹 Issue: Getting a credit card\n",
      "🔹 Chunk :in short, my complaints are : 1 ) receiving an unsolicited credit card 2 ) no direct means of contacting the issuer ( citibank )\n",
      "\n",
      " --- Result 4 --- \n",
      "🔹 Product: Credit card or prepaid card\n",
      "🔹 Issue: Fees or interest\n",
      "🔹 Chunk :i got upset on this and tried to write review on the internet and saw a lot of complain on xxxx xxxx and that is when i decided to submit this complaint. i have dealt with several credit card companies and they were somehow willing to help or make some deals, but none of that happen in xxxx xxxx. their fees are so high and not willing to help their customers. with these much complaints from their customers i believe something has to be done to address their practices.\n",
      "\n",
      " --- Result 5 --- \n",
      "🔹 Product: Credit card or prepaid card\n",
      "🔹 Issue: Closing your account\n",
      "🔹 Chunk :my complaint may seem silly to some people but, to me, it is serious and i cannot get any help with it or even any acknowledgment that anybody has read it, and certainly no acknowledgement that anybody cares. it involves banks and credit cards and phones. i can not use a phone. specifically my complaint is with : # xxxx xxxx xxxx xxxx and their xxxx credit card ; background : i opened a credit card account, without using a phone, via internet, approximately a year ago.\n",
      "\n"
     ]
    }
   ],
   "source": [
    "indexer.preview_results(query=\"What are the common complaints about credit cards?\", k=5)"
   ]
  },
  {
   "cell_type": "code",
   "execution_count": 8,
   "id": "489512b7",
   "metadata": {},
   "outputs": [
    {
     "name": "stdout",
     "output_type": "stream",
     "text": [
      " --- Result 1 --- \n",
      "🔹 Product: Money transfer, virtual currency, or money service\n",
      "🔹 Issue: Unauthorized transactions or other transaction problem\n",
      "🔹 Chunk :i found close to xxxx similar complaints on xxxx and ftc has a warning about money transfer companies siting money theft. this is totally on them and they need to fix it immediately!\n",
      "\n",
      " --- Result 2 --- \n",
      "🔹 Product: Checking or savings account\n",
      "🔹 Issue: Closing an account\n",
      "🔹 Chunk :this has caused me serious damage and i have tried many times to stop the money from being transferred.\n",
      "\n",
      " --- Result 3 --- \n",
      "🔹 Product: Money transfer, virtual currency, or money service\n",
      "🔹 Issue: Fraud or scam\n",
      "🔹 Chunk :i have transferred thousands of dollars- however, you never intended to fully understand the nature of the transaction. let me assure you that the prudent bank employee would have been able to identify unusual patterns in my transactions meaning that in case xxxx had been fulfilled by the bank, the red flags would have been immediately raised. nevertheless, my genuine willingness is to resolve this dispute and continue our cooperation, as i have always been satisfied with your services.\n",
      "\n",
      " --- Result 4 --- \n",
      "🔹 Product: Money transfers\n",
      "🔹 Issue: Money was not available when promised\n",
      "🔹 Chunk :below is the email complaint i submitted to moneygram 's online complaint page ... today was my xxxx and xxxx time using moneygram. i received the absolute worse, most harrowing service that i have ever experienced in my life. at xxxx xxxx i completed a cash transaction with moneygram for {$xxxx.00} + {$120.00} in transfer fees, and {$7.00} in transfer taxes. i was wiring money to my son 's father in south carolina. last xxxx, i was in a car wreck that totaled my vehicle.\n",
      "\n",
      " --- Result 5 --- \n",
      "🔹 Product: Credit card or prepaid card\n",
      "🔹 Issue: Unexpected or other fees\n",
      "🔹 Chunk :i explained that there are over 150 complaints against xxxx xxxx for money being wire or bank transferred from their cards. i reiterated that there is apparently a huge issue with my account and would like a check mailed. xxxx xxxx refuses to send a check. i am still without my {$xxxx.00}\n",
      "\n"
     ]
    }
   ],
   "source": [
    "indexer.preview_results(\n",
    "    query=\"What are the common complaints about money transfers?\", k=5\n",
    ")"
   ]
  }
 ],
 "metadata": {
  "kernelspec": {
   "display_name": ".chatvenv",
   "language": "python",
   "name": "python3"
  },
  "language_info": {
   "codemirror_mode": {
    "name": "ipython",
    "version": 3
   },
   "file_extension": ".py",
   "mimetype": "text/x-python",
   "name": "python",
   "nbconvert_exporter": "python",
   "pygments_lexer": "ipython3",
   "version": "3.11.9"
  }
 },
 "nbformat": 4,
 "nbformat_minor": 5
}
